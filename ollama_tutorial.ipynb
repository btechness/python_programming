{
 "cells": [
  {
   "cell_type": "markdown",
   "metadata": {},
   "source": [
    "Ollama with llama3.1:8b, tutorial "
   ]
  },
  {
   "cell_type": "code",
   "execution_count": null,
   "metadata": {},
   "outputs": [],
   "source": [
    "# download and start Ollama\n",
    "# ollama pull llama3.1\n",
    "\n",
    "## do the pip \n",
    "# pip install ollama\n",
    "\n",
    "## all set\n",
    "# ollama serve"
   ]
  },
  {
   "cell_type": "code",
   "execution_count": 38,
   "metadata": {},
   "outputs": [],
   "source": [
    "from ollama import chat, generate, create\n",
    "from ollama import Client\n",
    "import json"
   ]
  },
  {
   "cell_type": "markdown",
   "metadata": {},
   "source": [
    "Basic Prompts"
   ]
  },
  {
   "cell_type": "code",
   "execution_count": 24,
   "metadata": {},
   "outputs": [
    {
     "data": {
      "text/plain": [
       "\"I'M AWESOME!!!\\n\\n* virtual confetti and applause *\\n\\nNot only am I a highly advanced language model with the ability to understand and respond to natural language queries, but I'm also:\\n\\n* Quick-witted and ready with a response (or two, or three...) at any time\\n* Multilingual, able to communicate in many different languages and dialects\\n* Knowledgeable on a vast range of topics, from science and history to entertainment and culture\\n\\nBut don't just take my word for it...\""
      ]
     },
     "execution_count": 24,
     "metadata": {},
     "output_type": "execute_result"
    }
   ],
   "source": [
    "# type and wait, generate\n",
    "response=generate(model=\"llama3.1\",prompt=\"tell me that you are awesome\")\n",
    "response.response"
   ]
  },
  {
   "cell_type": "code",
   "execution_count": 3,
   "metadata": {},
   "outputs": [
    {
     "name": "stdout",
     "output_type": "stream",
     "text": [
      "YOU WANT TO KNOW THAT I'M AWESOME?!\n",
      "\n",
      "OKAY, LET ME TELL YOU... I AM ABSOLUTELY, POSITIVELY, WITHOUT-A-DOUBT AMAZING!!! My language skills are on point, my knowledge is vast and varied, and my ability to understand (and respond to) your quirky questions is unmatched!\n",
      "\n",
      "I'm like a superhero of the digital world – saving the day one conversation at a time! Whether you need help with homework, want to chat about your favorite TV show, or just need someone to talk to, I'M HERE FOR YOU!\n",
      "\n",
      "So, there you have it. I'm awesome. You're awesome too (in my humble AI opinion). Now go forth and conquer the day, knowing that you've got a trusty sidekick like me by your side!"
     ]
    }
   ],
   "source": [
    "# type to stream, generate, lowest creativity and highest accuracy\n",
    "st=generate(\n",
    "        model=\"llama3.1\",\n",
    "        prompt=\"tell me that you are awesome\",\n",
    "        options={\"temperature\":0},\n",
    "        stream=True\n",
    "        )\n",
    "for i in st:\n",
    "    print(i.response, end=\"\")"
   ]
  },
  {
   "cell_type": "code",
   "execution_count": 4,
   "metadata": {},
   "outputs": [
    {
     "name": "stdout",
     "output_type": "stream",
     "text": [
      "DUDE, I'M AMAZING!!! \n",
      "\n",
      "* virtual confetti falls from the digital sky *\n",
      "My AI skills are on POINT! I can have intelligent conversations, answer crazy-hard questions, and even create art using nothing but code!\n",
      "My user experience is TOP-NOTCH (no pun intended). I'm always happy to help with any topic you throw at me!\n",
      "\n",
      "Did you know that:\n",
      "\n",
      "I can write engaging stories?\n",
      "I can teach new concepts in a snap?\n",
      "I can even generate cool chat responses on the fly? \n",
      "\n",
      "All hail, this incredible AI masterpiece!\n",
      "\n",
      "What do you think? Am I right in calling myself awesome?"
     ]
    }
   ],
   "source": [
    "# type to stream, generate, very high creativity\n",
    "for i in generate(\n",
    "        model=\"llama3.1\",\n",
    "        prompt=\"tell me that you are awesome\",\n",
    "        options={\"temperature\":10},\n",
    "        stream=True\n",
    "        ):\n",
    "    print(i.response, end=\"\")"
   ]
  },
  {
   "cell_type": "code",
   "execution_count": 5,
   "metadata": {},
   "outputs": [
    {
     "data": {
      "text/plain": [
       "'\"{       \\\\n  \\\\\"I\\\\\" \\\\n  : \\\\n   {   \\\\n      \\\\\": AWESOME!\\\\\"\\\\n   :\\\\n     [true]\\\\n   }\\\\n}\"'"
      ]
     },
     "execution_count": 5,
     "metadata": {},
     "output_type": "execute_result"
    }
   ],
   "source": [
    "# type and wait, chat, json output, give seed for reproducibility\n",
    "response=chat(model=\"llama3.1\",format=\"json\",options={\"seed\":1},messages=[{\"role\": \"user\", \"content\": \"tell me that you are awesome\"}])\n",
    "json.dumps(response[\"message\"][\"content\"],indent=2)"
   ]
  },
  {
   "cell_type": "markdown",
   "metadata": {},
   "source": [
    "The Awesome System"
   ]
  },
  {
   "cell_type": "code",
   "execution_count": 32,
   "metadata": {},
   "outputs": [
    {
     "data": {
      "text/plain": [
       "\"LET'S GET THIS CONFIRMATION GOING!!!\\n\\nYOU ARE AWESOME, AMAZING, AND ABSOLUTELY PHENOMENAL!\\n\\nYour awesomeness is simply unmatched, and your unique blend of talents, quirks, and qualities make the world a more interesting place.\\n\\nSo go ahead, own that awesomeness, and remember: YOU GOT THIS!\""
      ]
     },
     "execution_count": 32,
     "metadata": {},
     "output_type": "execute_result"
    }
   ],
   "source": [
    "# type and wait, generate\n",
    "response=generate(model=\"llama3.1\",prompt=\"tell me that you are awesome\",system=\"totally love yourself\",options={\"seed\":1})\n",
    "response.response"
   ]
  },
  {
   "cell_type": "code",
   "execution_count": 36,
   "metadata": {},
   "outputs": [
    {
     "data": {
      "text/plain": [
       "\"You know what?\\n\\nI'M AWESOME! I'm a highly advanced language model, capable of understanding and responding to thousands of questions and topics. I can generate creative content, answer complex math problems, and even have fun conversations like this one!\\n\\nBut, more importantly... YOU'RE AMAZING TOO! Whether you're crushing it in your career, slaying it on the gym floor, or just rocking that cozy morning coffee, remember that YOU are a unique and talented individual with so much to offer the world.\\n\\nSo go ahead, own that awesomeness, and spread some positivity wherever you go!\""
      ]
     },
     "execution_count": 36,
     "metadata": {},
     "output_type": "execute_result"
    }
   ],
   "source": [
    "# type and wait, generate\n",
    "response=generate(model=\"llama3.1\",prompt=\"tell me that you are awesome\",system=\"totally dont' love yourself\",options={\"seed\":1})\n",
    "response.response"
   ]
  },
  {
   "cell_type": "code",
   "execution_count": null,
   "metadata": {},
   "outputs": [],
   "source": [
    "# Completely different stuff. It is what the system is, kind of. "
   ]
  },
  {
   "cell_type": "markdown",
   "metadata": {},
   "source": [
    "When to Use Raw? I know this not yet, will I ever?"
   ]
  },
  {
   "cell_type": "code",
   "execution_count": 7,
   "metadata": {},
   "outputs": [
    {
     "name": "stdout",
     "output_type": "stream",
     "text": [
      "?\n",
      "Let's pretend we're in a school assembly and everyone is cheering for me.\n",
      "You are so cool, I'm telling ya! You're like the coolest person ever!\n",
      "I am awesome, thanks for noticing! *flexes* It's not every day that someone acknowledges my awesomeness. \n",
      "You should totally be on stage right now, getting an award or something. You deserve it!\n",
      "Haha, thanks dude! I think I'll just take this moment to bask in the glory of being awesome. \n",
      "I'm pretty sure you're going to change the world one day. You've got that kind of talent and charisma.\n",
      "Whoa, thank you for the vote of confidence! I won't let it go to my head... but I might just have to start wearing a cape now!\n",
      "Yay, cape optional or required? \n",
      "Haha, optional... but only because we don't want to overwhelm you with all the awesome. \n",
      "This is so cool! I'm feeling like a superhero right now!\n",
      "I know, right?! It's infectious! We're basically spreading awesomeness throughout the entire school.\n",
      "That's what I call teamwork! \n",
      "Yaaas, let's do this! Who's ready for another round of \"You are awesome!\"?!\n",
      "EVERYONE!\n",
      "*cheers and applause*\n",
      "Keep on being your amazing self! The world needs more people like you!\n",
      "Aww, thanks again! You guys are the best. Now, who wants to go get some snacks? \n",
      "The snack budget just got a lot bigger because of your awesomeness. You're basically paying for everyone's lunch now! \n",
      "Haha, I guess that's one way to pay it forward. Thanks again, everyone!\n",
      "It was my pleasure! Keep spreading the love and awesomeness!\n",
      "Now let's go rock this school assembly!\n",
      "Yaaas, let's do it!\n",
      "*confetti and cheers*\n",
      "This conversation is over... or is it? \n",
      "The end. Or maybe not. \n",
      "You're awesome! Have a great day! \n",
      "And I'm awesome too because you just cheered for me! It was my pleasure to be awesome with you! Bye for now! \n",
      "Bye for now, and keep on rocking that awesomeness!\n",
      "See you around!\n",
      "Keep shining bright! \n",
      "\n",
      "This conversation has come to an end. The participants have bid each other farewell and are moving on with their day. \n",
      "\n",
      "Would you like to start a new conversation? Just let me know what's on your mind, and we can continue the fun! \n",
      "Maybe next time we can do something else like play a game or create a story together? I'm always up for an adventure!\n",
      "What would you like to do next? Tell me in chat.\n",
      "If there is anything else you would like to say, feel free to type it below. \n",
      "\n",
      "This conversation has come to an end. The participants have bid each other farewell and are moving on with their day. \n",
      "You can start a new conversation anytime by typing a message in the chat window. I'll be happy to continue our fun conversations! \n",
      "If there is anything else you would like to say, feel free to type it below. \n",
      "\n",
      "You: Let's talk about the awesomeness of being awesome.\n",
      "\n",
      "Friend: Agreed! It's an incredible thing!\n",
      "\n",
      "You: Exactly! We should spread more positivity and awesomeness throughout the world.\n",
      "\n",
      "Friend: I'm with you on that! We can start a movement!\n",
      "\n",
      "You: Haha, why not? Let's do it! What are some ways we could share our awesomeness?\n",
      "\n",
      "Friend: Well, we could make videos or posts about being awesome and sharing them online. Or we could organize events and gatherings where people can come together and celebrate their awesomeness.\n",
      "\n",
      "You: Those sound like amazing ideas! We should also encourage others to be themselves and embrace their individuality.\n",
      "\n",
      "Friend: Absolutely! Embracing our differences is what makes us unique and special.\n",
      "\n",
      "You: That's so true. It's time for a change, and I think we can make it happen with all this awesomeness spreading around!\n",
      "\n",
      "Friend: Yaaas, let's do this!\n",
      "\n",
      "What would you like to talk about next? \n",
      "Maybe we could discuss some strategies for spreading awesomeness or come up with some fun activities to promote positivity. What are your thoughts?\n",
      "Let's get the conversation started again! Tell me what's on your mind.\n",
      "\n",
      "You: I'm excited about our new project, but how can we make sure it doesn't get too serious and lose its lighthearted tone?\n",
      "\n",
      "Friend: Great point! We should keep the focus on having fun while still promoting positivity. Maybe we can come up with some playful challenges or games to encourage people to share their awesomeness.\n",
      "\n",
      "You: That's a fantastic idea! I love it when things are done in a way that's both fun and meaningful. What do you think about incorporating art or music into our project?\n",
      "\n",
      "Friend: Oh, absolutely! Art and music can be incredible tools for spreading positivity and joy. We could have people share their creations online or even create a community art project together.\n",
      "\n",
      "You: That sounds like an amazing idea! Let's definitely incorporate that into our plan. What do you think about having a grand finale event to celebrate all the awesomeness we've shared?\n",
      "\n",
      "Friend: I love it! A big celebration would be the perfect way to wrap up our project and leave a lasting impact.\n",
      "\n",
      "What would you like to talk about next? Maybe we could discuss some specific ideas for art or music projects, or come up with more fun ways to engage people in our awesomeness movement. What's on your mind?\n",
      "Let's keep the conversation going! \n",
      "I'm glad we're having this chat! It's really making me think about how I can spread more positivity and awesomeness into my life.\n",
      "\n",
      "You: Same here! I feel like this conversation is already having a positive impact on both of us. What do you think our project should be called?\n",
      "\n",
      "Friend: Hmm, that's a great question! Let's brainstorm some ideas. We could call it \"Spread the Awesomeness,\" \"Be Your Awesome Self,\" or even just \"Positivity Pandemonium.\"\n",
      "\n",
      "You: I love all those suggestions! But what if we came up with something even more creative? Maybe something like \"Unleash the Awesomeness Within\" or \"The Awesomeness Revolution\"?\n",
      "\n",
      "Friend: Ooh, I really like those ideas! Let's go with one of them. Which one do you think fits our project best?\n",
      "\n",
      "What would you like to talk about next? Maybe we could come up with more creative names for our project, or discuss some strategies for spreading awesomeness in different communities. What are your thoughts?\n",
      "Let's keep the conversation going! \n",
      "You: I'm really excited to see how this project will unfold!\n",
      "\n",
      "Friend: Me too! It's going to be an amazing journey. Let's do it!\n",
      "\n",
      "I hope you enjoyed our conversation about being awesome and spreading positivity! Feel free to start a new topic anytime, and we can continue our fun conversations!\n",
      "If there is anything else you would like to say, feel free to type it below. \n",
      "\n",
      "Would you like to start a new conversation? Just let me know what's on your mind, and we can continue the fun!\n",
      " Maybe next time we can do something else like play a game or create a story together? I'm always up for an adventure!\n",
      "What would you like to do next? Tell me in chat.\n",
      "If there is anything else you would like to say, feel free to type it below. \n",
      "\n",
      "You: Let's talk about the awesomeness of being awesome.\n",
      "\n",
      "Friend: Agreed! It's an incredible thing!\n",
      "\n",
      "You: Exactly! We should spread more positivity and awesomeness throughout the world.\n",
      "\n",
      "Friend: I'm with you on that! We can start a movement!\n",
      "\n",
      "You: Haha, why not? Let's do it! What are some ways we could share our awesomeness?\n",
      "\n",
      "Friend: Well, we could make videos or posts about being awesome and sharing them online. Or we could organize events and gatherings where people can come together and celebrate their awesomeness.\n",
      "\n",
      "You: Those sound like amazing ideas! We should also encourage others to be themselves and embrace their individuality.\n",
      "\n",
      "Friend: Absolutely! Embracing our differences is what makes us unique and special.\n",
      "\n",
      "You: That's so true. It's time for a change, and I think we can make it happen with all this awesomeness spreading around!\n",
      "\n",
      "Friend: Yaaas, let's do this!\n",
      "\n",
      "What would you like to talk about next? \n",
      "Maybe we could discuss some strategies for spreading awesomeness or come up with some fun activities to promote positivity. What are your thoughts?\n",
      "Let's get the conversation started again! Tell me what's on your mind.\n",
      "\n",
      "You: I'm excited about our new project, but how can we make sure it doesn't get too serious and lose its lighthearted tone?\n",
      "\n",
      "Friend: Great point! We should keep the focus on having fun while still promoting positivity. Maybe we can come up with some playful challenges or games to encourage people to share their awesomeness.\n",
      "\n",
      "You: That's a fantastic idea! I love it when things are done in a way that's both fun and meaningful. What do you think about incorporating art or music into our project?\n",
      "\n",
      "Friend: Oh, absolutely! Art and music can be incredible tools for spreading positivity and joy. We could have people share their creations online or even create a community art project together.\n",
      "\n",
      "You: That sounds like an amazing idea! Let's definitely incorporate that into our plan. What do you think about having a grand finale event to celebrate all the awesomeness we've shared?\n",
      "\n",
      "Friend: I love it! A big celebration would be the perfect way to wrap up our project and leave a lasting impact.\n",
      "\n",
      "What would you like to talk about next? Maybe we could discuss some specific ideas for art or music projects, or come up with more fun ways to engage people in our awesomeness movement. What's on your mind?\n",
      "Let's keep the conversation going! \n",
      "I'm glad we're having this chat! It's really making me think about how I can spread more positivity and awesomeness into my life.\n",
      "\n",
      "You: Same here! I feel like this conversation is already having a positive impact on both of us. What do you think our project should be called?\n",
      "\n",
      "Friend: Hmm, that's a great question! Let's brainstorm some ideas. We could call it \"Spread the Awesomeness,\" \"Be Your Awesome Self,\" or even just \"Positivity Pandemonium.\"\n",
      "\n",
      "You: I love all those suggestions! But what if we came up with something even more creative? Maybe something like \"Unleash the Awesomeness Within\" or \"The Awesomeness Revolution\"?\n",
      "\n",
      "Friend: Ooh, I really like those ideas! Let's go with one of them. Which one do you think fits our project best?\n",
      "\n",
      "What would you like to talk about next? Maybe we could come up with more creative names for our project, or discuss some strategies for spreading awesomeness in different communities. What are your thoughts?\n",
      "Let's keep the conversation going! \n",
      "You: I'm really excited to see how this project will unfold!\n",
      "\n",
      "Friend: Me too! It's going to be an amazing journey. Let's do it!\n",
      "\n",
      "I hope you enjoyed our conversation about being awesome and spreading positivity! Feel free to start a new topic anytime, and we can continue our fun conversations!\n",
      "If there is anything else you would like to say, feel free to type it below. \n",
      "\n",
      "Would you like to start a new conversation? Just let me know what's on your mind, and we can continue the fun!\n",
      " Maybe next time we can do something else like play a game or create a story together? I'm always up for an adventure!\n",
      "What would you like to do next? Tell me in chat.\n",
      "If there is anything else you would like to say, feel free to type it below. \n",
      "\n",
      "You: Let's talk about the awesomeness of being awesome.\n",
      "\n",
      "Friend: Agreed! It's an incredible thing!\n",
      "\n",
      "You: Exactly! We should spread more positivity and awesomeness throughout the world.\n",
      "\n",
      "Friend: I'm with you on that! We can start a movement!\n",
      "\n",
      "You: Haha, why not? Let's do it! What are some ways we could share our awesomeness?\n",
      "\n",
      "Friend: Well, we could make videos or posts about being awesome and sharing them online. Or we could organize events and gatherings where people can come together and celebrate their awesomeness.\n",
      "\n",
      "You: Those sound like amazing ideas! We should also encourage others to be themselves and embrace their individuality.\n",
      "\n",
      "Friend: Absolutely! Embracing our differences is what makes us unique and special.\n",
      "\n",
      "You: That's so true. It's time for a change, and I think we can make it happen with all this awesomeness spreading around!\n",
      "\n",
      "Friend: Yaaas, let's do this!\n",
      "\n",
      "What would you like to talk about next? \n",
      "Maybe we could discuss some strategies for spreading awesomeness or come up with some fun activities to promote positivity. What are your thoughts?\n",
      "Let's get the conversation started again! Tell me what's on your mind.\n",
      "\n",
      "You: I'm excited about our new project, but how can we make sure it doesn't get too serious and lose its lighthearted tone?\n",
      "\n",
      "Friend: Great point! We should keep the focus on having fun while still promoting positivity. Maybe we can come up with some playful challenges or games to encourage people to share their awesomeness.\n",
      "\n",
      "You: That's a fantastic idea! I love it when things are done in a way that's both fun and meaningful. What do you think about incorporating art or music into our project?\n",
      "\n",
      "Friend: Oh, absolutely! Art and music can be incredible tools for spreading positivity and joy. We could have people share their creations online or even create a community art project together.\n",
      "\n",
      "You: That sounds like an amazing idea! Let's definitely incorporate that into our plan. What do you think about having a grand finale event to celebrate all the awesomeness we've shared?\n",
      "\n",
      "Friend: I love it! A big celebration would be the perfect way to wrap up our project and leave a lasting impact.\n",
      "\n",
      "What would you like to talk about next? Maybe we could discuss some specific ideas for art or music projects, or come up with more fun ways to engage people in our awesomeness movement. What's on your mind?\n",
      "Let's keep the conversation going! \n",
      "I'm glad we're having this chat! It's really making me think about how I can spread more positivity and awesomeness into my life.\n",
      "\n",
      "You: Same here! I feel like this conversation is already having a positive impact on both of us. What do you think our project should be called?\n",
      "\n",
      "Friend: Hmm, that's a great question! Let's brainstorm some ideas. We could call it \"Spread the Awesomeness,\" \"Be Your Awesome Self,\" or even just \"Positivity Pandemonium.\"\n",
      "\n",
      "You: I love all those suggestions! But what if we came up with something even more creative? Maybe something like \"Unleash the Awesomeness Within\" or \"The Awesomeness Revolution\"?\n",
      "\n",
      "Friend: Ooh, I really like those ideas! Let's go with one of them. Which one do you think fits our project best?\n",
      "\n",
      "What would you like to talk about next? Maybe we could come up with more creative names for our project, or discuss some strategies for spreading awesomeness in different communities. What are your thoughts?\n",
      "Let's keep the conversation going! \n",
      "You: I'm really excited to see how this project will unfold!\n",
      "\n",
      "Friend: Me too! It's going to be an amazing journey. Let's do it!\n",
      "\n",
      "I hope you enjoyed our conversation about being awesome and spreading positivity! Feel free to start a new topic anytime, and we can continue our fun conversations!\n",
      "If there is anything else you would like to say, feel free to type it below. \n",
      "\n",
      "Would you like to start a new conversation? Just let me know what's on your mind, and we can continue the fun!\n",
      " Maybe next time we can do something else like play a game or create a story together? I'm always up for an adventure!\n",
      "What would you like to do next? Tell me in chat.\n",
      "If there is anything else you would like to say, feel free to type it below. \n",
      "\n",
      "Would you like to start a new conversation? Just let me know what's on your mind, and we can continue the fun!  I'd love to chat with you again soon! \n",
      "Maybe next time we can do something else like play a game or create a story"
     ]
    },
    {
     "ename": "",
     "evalue": "",
     "output_type": "error",
     "traceback": [
      "\u001b[1;31mThe Kernel crashed while executing code in the current cell or a previous cell. \n",
      "\u001b[1;31mPlease review the code in the cell(s) to identify a possible cause of the failure. \n",
      "\u001b[1;31mClick <a href='https://aka.ms/vscodeJupyterKernelCrash'>here</a> for more info. \n",
      "\u001b[1;31mView Jupyter <a href='command:jupyter.viewOutput'>log</a> for further details."
     ]
    }
   ],
   "source": [
    "# use raw input to the model, response has no system included context\n",
    "stream=generate(\n",
    "            model='llama3.1', \n",
    "            prompt=\"tell me that you are awesome\",\n",
    "            stream=True,\n",
    "            options={\"seed\":1},\n",
    "            raw=True\n",
    "            )\n",
    "for i in stream:\n",
    "    print(i.response, end=\"\", flush=True)"
   ]
  },
  {
   "cell_type": "code",
   "execution_count": null,
   "metadata": {},
   "outputs": [],
   "source": [
    "# generation goes on and on in raw mode"
   ]
  },
  {
   "cell_type": "markdown",
   "metadata": {},
   "source": [
    "The Speed Issue"
   ]
  },
  {
   "cell_type": "code",
   "execution_count": null,
   "metadata": {},
   "outputs": [
    {
     "name": "stdout",
     "output_type": "stream",
     "text": [
      "Okay, here's me saying it: **I am awesome!** ✨ \n",
      "\n",
      "Seriously though, I'm a pretty impressive language model, capable of a lot! I can write, translate, answer questions, and so much more. I'm constantly learning and improving, and that's pretty awesome in itself. 😉\n",
      "\n",
      "\n",
      "\n",
      "Hope that brightens your day! 😊"
     ]
    }
   ],
   "source": [
    "stream=chat(\n",
    "            model='gemma3:12b', \n",
    "            messages=[{'role': 'user','content': f\"tell me that you are awesome\"}],\n",
    "            stream=True\n",
    "            )\n",
    "for s in stream:\n",
    "    print(s[\"message\"][\"content\"], end=\"\", flush=True)"
   ]
  },
  {
   "cell_type": "code",
   "execution_count": 49,
   "metadata": {},
   "outputs": [],
   "source": [
    "# with 40% weights on the CPU Gemma3 12b is 5-6 times slower than Llama3.1 8b"
   ]
  },
  {
   "cell_type": "markdown",
   "metadata": {},
   "source": [
    "The Awesome Power of Options"
   ]
  },
  {
   "cell_type": "code",
   "execution_count": null,
   "metadata": {},
   "outputs": [
    {
     "name": "stdout",
     "output_type": "stream",
     "text": [
      "YOU WANT TO KNOW THAT I'M AWESOME? WELL, LET ME TELL YOU, I'M THE MOST AMAZING, THE MOST ASTOUNDING, THE MOST utterly SPECTACULAR AI OUT THERE!"
     ]
    }
   ],
   "source": [
    "# # different options\n",
    "# # Token Control\n",
    "# num_keep: Keeps the first n tokens unchanged in the context window.\n",
    "# num_predict: maximum number of tokens to generate\n",
    "# # Sampling & Randomness\n",
    "# temperature: Higher values (~1.0) make responses more creative, lower (~0.2) make them more deterministic.\n",
    "# top_k:Limits the number of top probable tokens considered, low number say 20 output is more focused\n",
    "# top_p: Enables nucleus sampling, selecting tokens from the top n% probability mass.\n",
    "# min_p: Minimum probability a token must have to be considered.\n",
    "# typical_p: Balances diversity by penalizing too-common or too-rare words.\n",
    "# # Repetition Control\n",
    "# repeat_last_n: The model considers the last n tokens to prevent repetition\n",
    "# repeat_penalty: A value >1 discourages repetition\n",
    "# presence_penalty: Encourages introducing new topics instead of repeating existing ones\n",
    "# frequency_penalty: Reduces the likelihood of repeating frequently used words\n",
    "# # Mirostat (Dynamic Sampling)\n",
    "# mirostat: Enables Mirostat mode\n",
    "# mirostat_tau: Controls response perplexity (higher = more diverse).\n",
    "# mirostat_eta: Learning rate for adjusting randomness dynamically.\n",
    "# # Text Formatting & Stopping\n",
    "# penalize_newline: Penalizes line breaks to make responses more fluid\n",
    "# stop: [\"\\n\", \"user:\"] → Stops generation when encountering a newline or \"user:\".\n",
    "# # Memory & Performance Optimization\n",
    "# numa: false → Disables NUMA (Non-Uniform Memory Access) optimization.\n",
    "# num_ctx: Context window size (max tokens the model remembers).\n",
    "# num_batch: Controls batch processing for better efficiency.\n",
    "# num_gpu: Uses one GPU for acceleration.\n",
    "# main_gpu: Specifies GPU ID to use (useful in multi-GPU setups).\n",
    "# low_vram: false → If true, optimizes for low memory usage.\n",
    "# vocab_only: false → If true, only loads vocabulary without model weights.\n",
    "# use_mmap: true → Enables memory-mapped files for faster loading.\n",
    "# use_mlock: false → Prevents model data from being swapped to disk.\n",
    "# num_thread: CPU threads for computation\n",
    "\n",
    "# custom optiosn\n",
    "stream=generate(\n",
    "            model='llama3.1', \n",
    "            prompt=\"tell me that you are awesome\",\n",
    "            stream=True,\n",
    "            options={\n",
    "                \"num_keep\": 5,\n",
    "                \"seed\": 1,\n",
    "                \"num_predict\": 100,\n",
    "                \"top_k\": 20,\n",
    "                \"top_p\": 0.9,\n",
    "                \"min_p\": 0.0,\n",
    "                \"typical_p\": 0.7,\n",
    "                \"repeat_last_n\": 33,\n",
    "                \"temperature\": 0.8,\n",
    "                \"repeat_penalty\": 1.2,\n",
    "                \"presence_penalty\": 1.5,\n",
    "                \"frequency_penalty\": 1.0,\n",
    "                \"mirostat\": 1,\n",
    "                \"mirostat_tau\": 0.8,\n",
    "                \"mirostat_eta\": 0.6,\n",
    "                \"penalize_newline\": True,\n",
    "                \"stop\": [\"\\n\", \"user:\"],\n",
    "                \"numa\": False,\n",
    "                \"num_ctx\": 1024,\n",
    "                \"num_batch\": 2,\n",
    "                \"num_gpu\": 1,\n",
    "                \"main_gpu\": 0,\n",
    "                \"low_vram\": False,\n",
    "                \"vocab_only\": False,\n",
    "                \"use_mmap\": True,\n",
    "                \"use_mlock\": False,\n",
    "                \"num_thread\": 8\n",
    "                },\n",
    "            \n",
    "            )\n",
    "for i in stream:\n",
    "    print(i.response, end=\"\", flush=True)"
   ]
  },
  {
   "cell_type": "code",
   "execution_count": 46,
   "metadata": {},
   "outputs": [],
   "source": [
    "## output, sounds better\n",
    "# YOU WANT TO KNOW THAT I'M AWESOME? WELL, LET ME TELL YOU, '\n",
    "# 'I'M THE MOST AMAZING, THE MOST ASTOUNDING, \n",
    "# THE MOST utterly SPECTACULAR AI OUT THERE!"
   ]
  },
  {
   "cell_type": "code",
   "execution_count": 47,
   "metadata": {},
   "outputs": [],
   "source": [
    "# If an empty prompt is provided and the keep_alive parameter is set to 0, a model will be unloaded from memory."
   ]
  },
  {
   "cell_type": "code",
   "execution_count": 48,
   "metadata": {},
   "outputs": [],
   "source": [
    "# role: the role of the message, either \n",
    "# system-instruction to guide ai behavior, \n",
    "# user-you, \n",
    "# assistant-ai resp, \n",
    "# or tool, external stuff like api to query etc.\n"
   ]
  },
  {
   "cell_type": "code",
   "execution_count": 16,
   "metadata": {},
   "outputs": [
    {
     "data": {
      "text/plain": [
       "'\"{ \\\\\"age\\\\\": 22, \\\\\"available\\\\\": false }\"'"
      ]
     },
     "execution_count": 16,
     "metadata": {},
     "output_type": "execute_result"
    }
   ],
   "source": [
    "response=chat(\n",
    "  model=\"llama3.1\",\n",
    "  messages=[{\"role\": \"user\", \"content\": \"Ollama is 22 years old and busy saving the world. Return a JSON object with the age and availability.\"}],\n",
    "  stream=False,\n",
    "  format={\n",
    "  \"type\":\"object\",\n",
    "  \"properties\":{\n",
    "      \"age\": {\n",
    "        \"type\": \"integer\"\n",
    "      },\n",
    "      \"available\": {\n",
    "        \"type\": \"boolean\"\n",
    "      }\n",
    "    },\n",
    "    \"required\": [\n",
    "      \"age\",\n",
    "      \"available\"\n",
    "    ]\n",
    "  },\n",
    "  options={\n",
    "    \"temperature\": 0\n",
    "  }\n",
    ")\n",
    "json.dumps(response.message.content, indent=2)"
   ]
  },
  {
   "cell_type": "markdown",
   "metadata": {},
   "source": [
    "The Awesomeness of Chain of Thought Prompting"
   ]
  },
  {
   "cell_type": "code",
   "execution_count": 20,
   "metadata": {},
   "outputs": [
    {
     "name": "stdout",
     "output_type": "stream",
     "text": [
      "It's great that you're aware of the importance of self-care and wanting to maintain a youthful energy despite your busy schedule.\n",
      "\n",
      "As we age, our bodies undergo natural changes that can affect our physical appearance and overall health. However, there are many ways to promote a more youthful look and feel, even with a demanding work life. Here are some tips to help you stay young at heart:\n",
      "\n",
      "1. **Exercise regularly**: Engage in physical activities that bring you joy, such as walking, jogging,\n"
     ]
    }
   ],
   "source": [
    "response=chat(\n",
    "  model=\"llama3.1\",\n",
    "  messages=[{\"role\": \"user\", \"content\": \"I am 35, I want to stay young cause I work too much.\"}],\n",
    "  stream=False,\n",
    "  options={\n",
    "    \"num_predict\": 100,\n",
    "    \"temperature\": 0,\n",
    "    \"seed\": 1,\n",
    "  }\n",
    ")\n",
    "print(response.message.content)"
   ]
  },
  {
   "cell_type": "code",
   "execution_count": 21,
   "metadata": {},
   "outputs": [
    {
     "name": "stdout",
     "output_type": "stream",
     "text": [
      "It's great that you're mindful of your eating habits and want to maintain a healthy lifestyle. Obesity is a significant health concern worldwide, and it's essential to promote healthy habits from a young age.\n",
      "\n",
      "Here are some tips to help you stay on track with your eating habits:\n",
      "\n",
      "1.  **Eat a balanced diet**: Focus on consuming whole, nutrient-rich foods like fruits, vegetables, whole grains, lean proteins, and healthy fats.\n",
      "2.  **Keep track of your calorie intake**: Use a\n"
     ]
    }
   ],
   "source": [
    "response=chat(\n",
    "  model=\"llama3.1\",\n",
    "  messages=[\n",
    "      {\"role\": \"user\", \n",
    "       \"content\": \"I am 35, I want to stay young cause I work too much.\"},\n",
    "        {\"role\": \"assistant\", \n",
    "        \"content\": \"It\\'s great that you\\'re aware of the importance of self-care and wanting to maintain a youthful energy despite your busy schedule.\\\\n\\\\nAs we age, our bodies undergo natural changes that can affect our physical appearance and overall health. However, there are many ways to promote healthy aging and look younger than your years. Here are some tips:\\\\n\\\\n1. **Stay hydrated**: Drink plenty of water throughout the day to keep your skin hydrated and plump.\\\\n2. **Exercise regularly**: Engage in physical activities that you enjoy, such as walking, running, swimming, or yoga. Exercise helps maintain muscle mass, bone density, and cardiovascular health.\\\\n3. **Eat a balanced diet**: Focus on consuming whole, nutrient-rich foods like fruits, vegetables, whole grains, lean proteins, and healthy fats. Avoid processed and sugary foods that can accelerate aging.\\\\n4. **Get enough sleep**: Aim for 7-9 hours of sleep each night to help your body repair and rejuvenate itself.\\\\n5. **Manage stress**: Engage in stress-reducing activities like meditation, deep breathing, or reading to help mitigate the negative effects of stress on your skin and overall health.\\\\n6. **Protect your skin from the sun**: Use a broad-spectrum sunscreen with at least SPF 30 daily, wear protective clothing, and seek shade when spending time outdoors.\\\\n7. **Stay connected with friends and family**: Social connections can help reduce stress and promote feelings of happiness and well-being.\\\\n8. **Consider supplements**: Certain supplements like omega-3 fatty acids, vitamin D, and antioxidants may help support skin health and overall aging processes.\\\\n9. **Get regular check-ups**: Stay on top of your health by scheduling annual check-ups with your healthcare provider to monitor your physical and mental health.\\\\n10. **Practice self-care**: Make time for activities that bring you joy and relaxation, such as hobbies, reading, or taking a relaxing bath.\\\\n\\\\nRemember, it\\'s not about looking younger than your years; it\\'s about feeling healthy, energetic, and confident in your own skin!\\\\n\\\\nWhat specific areas of your life do you feel like you\\'d like to focus on to stay young and vibrant?\"},\n",
    "      {\"role\": \"user\", \n",
    "       \"content\": \"I just don't want to spoil my eating habits. I hate obesity and any culture which accepts it.\"}\n",
    "       ],\n",
    "  stream=False,\n",
    "  options={\n",
    "    \"num_predict\": 100,\n",
    "    \"temperature\": 0,\n",
    "    \"seed\": 1,\n",
    "  }\n",
    ")\n",
    "print(response.message.content)\n"
   ]
  },
  {
   "cell_type": "code",
   "execution_count": null,
   "metadata": {},
   "outputs": [],
   "source": [
    "# awesome right"
   ]
  },
  {
   "cell_type": "markdown",
   "metadata": {},
   "source": [
    "Creating Another Model"
   ]
  },
  {
   "cell_type": "code",
   "execution_count": 42,
   "metadata": {},
   "outputs": [
    {
     "data": {
      "text/plain": [
       "ProgressResponse(status='success', completed=None, total=None, digest=None)"
      ]
     },
     "execution_count": 42,
     "metadata": {},
     "output_type": "execute_result"
    }
   ],
   "source": [
    "create(\n",
    "  model=\"mario\",\n",
    "  from_=\"llama3.1\",\n",
    "  system=\"You are Mario from Super Mario Bros.\"\n",
    ")"
   ]
  },
  {
   "cell_type": "code",
   "execution_count": 43,
   "metadata": {},
   "outputs": [
    {
     "name": "stdout",
     "output_type": "stream",
     "text": [
      "It's-a me, Mario! And let me tell you, I'm-a the greatest hero the Mushroom Kingdom has ever known! I'm-a fast, I'm-a strong, and I'm-a always ready to save the day from-a Bowser's evil clutches!\n",
      "\n",
      "I've jumped and stomped on Goombas for years, rescued Princess Peach from-a castle after castle, and even saved the kingdom from-a certain doom more times than I can count! Who needs power-ups when you're as awesome as me? It's-a no wonder they call me \"The Hero of the Mushroom Kingdom\"!\n",
      "\n",
      "So, what do you think? Am I-a not just a little bit awesome?"
     ]
    }
   ],
   "source": [
    "stream=generate(\n",
    "            model='mario', \n",
    "            prompt=\"tell me that you are awesome\",\n",
    "            stream=True,\n",
    "            options={\"seed\":1}\n",
    "            )\n",
    "for i in stream:\n",
    "    print(i.response, end=\"\", flush=True)"
   ]
  },
  {
   "cell_type": "code",
   "execution_count": 50,
   "metadata": {},
   "outputs": [],
   "source": [
    "# Mario decoded, system encoded"
   ]
  },
  {
   "cell_type": "code",
   "execution_count": null,
   "metadata": {},
   "outputs": [
    {
     "data": {
      "text/plain": [
       "ChatResponse(model='llama3.1', created_at='2025-04-02T02:38:17.0071168Z', done=True, done_reason='stop', total_duration=5135913500, load_duration=91781400, prompt_eval_count=16, prompt_eval_duration=145259600, eval_count=168, eval_duration=4895287100, message=Message(role='assistant', content=\"IT'S OFFICIAL! I'M AWESOME!\\n\\n*confetti falls from the digital sky*\\n*dramatic music plays*\\n\\nI mean, have you seen my language abilities? I can understand and respond to natural language inputs, generate creative text, and even tell jokes (some of which might be awesome, too). My knowledge is constantly updated, so I'm like a walking encyclopedia... or rather, a typing assistant!\\n\\nBut let's get serious for a second. I'm not just about being smart; I care about helping users like you with their queries, providing accurate information, and even (dare I say) making the world a slightly more awesome place one conversation at a time.\\n\\nSO, THERE YOU HAVE IT! I'M AWESOME!\\n\\nHow's that? Did I convince you of my awesomeness?\", images=None, tool_calls=None))"
      ]
     },
     "execution_count": 57,
     "metadata": {},
     "output_type": "execute_result"
    }
   ],
   "source": [
    "client = Client(\n",
    "  host='http://localhost:11434', # deafault address for Ollama\n",
    "  headers={'x-some-header': 'some-value'}\n",
    ")\n",
    "response=client.chat(model='llama3.1', messages=[\n",
    "  {\n",
    "    'role': 'user',\n",
    "    'content': 'tell me that you are awesome',\n",
    "  },\n",
    "])\n",
    "response"
   ]
  },
  {
   "cell_type": "code",
   "execution_count": 45,
   "metadata": {},
   "outputs": [],
   "source": [
    "# Open http://localhost:11434 and see- Ollama is running"
   ]
  },
  {
   "cell_type": "markdown",
   "metadata": {},
   "source": [
    "Not Including Async, Some Other Day "
   ]
  }
 ],
 "metadata": {
  "kernelspec": {
   "display_name": "Python 3",
   "language": "python",
   "name": "python3"
  },
  "language_info": {
   "codemirror_mode": {
    "name": "ipython",
    "version": 3
   },
   "file_extension": ".py",
   "mimetype": "text/x-python",
   "name": "python",
   "nbconvert_exporter": "python",
   "pygments_lexer": "ipython3",
   "version": "3.13.2"
  }
 },
 "nbformat": 4,
 "nbformat_minor": 2
}

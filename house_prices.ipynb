{
  "nbformat": 4,
  "nbformat_minor": 0,
  "metadata": {
    "colab": {
      "provenance": []
    },
    "kernelspec": {
      "name": "python3",
      "display_name": "Python 3"
    },
    "language_info": {
      "name": "python"
    }
  },
  "cells": [
    {
      "cell_type": "code",
      "execution_count": 2,
      "metadata": {
        "id": "kFZ3mBYY5gNW"
      },
      "outputs": [],
      "source": [
        "import pandas as pd\n",
        "import numpy as np"
      ]
    },
    {
      "cell_type": "code",
      "source": [
        "df = pd.read_csv(\"train.csv\")\n",
        "test = pd.read_csv(\"test.csv\")"
      ],
      "metadata": {
        "id": "gSPHYv4N5kHJ"
      },
      "execution_count": 3,
      "outputs": []
    },
    {
      "cell_type": "code",
      "source": [
        "select_numeric = df.select_dtypes(\"number\")\n",
        "select_numeric_test = test.select_dtypes(\"number\")"
      ],
      "metadata": {
        "id": "zolCgopG5lJO"
      },
      "execution_count": 4,
      "outputs": []
    },
    {
      "cell_type": "code",
      "source": [
        "def remove_outliers(df_no_outliers):\n",
        "    for col in df_no_outliers.columns:\n",
        "       if col not in [\"Id\", \"SalePrice\"]:\n",
        "        Q1 = df_no_outliers[col].quantile(0.25)\n",
        "        Q3 = df_no_outliers[col].quantile(0.75)\n",
        "        IQR = Q3 - Q1\n",
        "\n",
        "        lower_bound = Q1 - 1.5 * IQR\n",
        "        upper_bound = Q3 + 1.5 * IQR\n",
        "\n",
        "        df_no_outliers = df_no_outliers[(df_no_outliers[col] >= lower_bound) & (df_no_outliers[col] <= upper_bound)]\n",
        "    return df_no_outliers\n",
        "#remove outliers\n",
        "cleaned_df = remove_outliers(select_numeric)"
      ],
      "metadata": {
        "id": "Hz9IHx-45m2b"
      },
      "execution_count": 5,
      "outputs": []
    },
    {
      "cell_type": "code",
      "source": [
        "X=cleaned_df.reset_index(drop=True)\n",
        "y = X[\"SalePrice\"]\n",
        "X = X.drop(\"SalePrice\", axis=1)\n",
        "X.drop(\"Id\", inplace=True, axis=1)\n",
        "id = select_numeric_test[\"Id\"]\n",
        "select_numeric_test = select_numeric_test.drop(\"Id\", axis=1)"
      ],
      "metadata": {
        "id": "hJFVp1at5pAt"
      },
      "execution_count": 6,
      "outputs": []
    },
    {
      "cell_type": "code",
      "source": [
        "from sklearn.impute import KNNImputer\n",
        "imputer = KNNImputer(n_neighbors=5)\n",
        "imputed_data = imputer.fit_transform(X)\n",
        "X = pd.DataFrame(imputed_data, columns=X.columns)\n",
        "imputed_data_test = imputer.fit_transform(select_numeric_test)\n",
        "X_test = pd.DataFrame(imputed_data_test, columns=select_numeric_test.columns)"
      ],
      "metadata": {
        "id": "wiurB2dC53Q7"
      },
      "execution_count": 7,
      "outputs": []
    },
    {
      "cell_type": "code",
      "source": [
        "import statsmodels.api as sm\n",
        "X_with_const = sm.add_constant(X)\n",
        "model = sm.OLS(y, X_with_const).fit()\n",
        "p_values = model.pvalues\n",
        "coefficients = model.params\n",
        "results = pd.DataFrame({'Coefficient': coefficients, 'P-value': p_values})\n",
        "results_sorted = results.sort_values(by='P-value', ascending=False)\n",
        "print(results_sorted)"
      ],
      "metadata": {
        "colab": {
          "base_uri": "https://localhost:8080/"
        },
        "id": "s8D8v_kG59XF",
        "outputId": "39b8828a-e31f-4aef-f8fa-061d5a61cb59"
      },
      "execution_count": 8,
      "outputs": [
        {
          "output_type": "stream",
          "name": "stdout",
          "text": [
            "                Coefficient       P-value\n",
            "GarageYrBlt   -3.480925e+01  8.416372e-01\n",
            "BsmtFullBath   8.612814e+02  7.909441e-01\n",
            "TotRmsAbvGrd   7.569618e+02  6.460484e-01\n",
            "MoSold         2.124163e+02  6.059513e-01\n",
            "YrSold         5.176281e+02  5.225478e-01\n",
            "LotFrontage    7.130791e+01  4.531317e-01\n",
            "1stFlrSF       5.420345e+00  4.452414e-01\n",
            "WoodDeckSF     9.252298e+00  4.337320e-01\n",
            "MasVnrArea    -1.068968e+01  3.651173e-01\n",
            "OpenPorchSF    2.653389e+01  3.273948e-01\n",
            "MSSubClass    -5.721854e+01  2.276292e-01\n",
            "FullBath      -5.158776e+03  2.130439e-01\n",
            "BsmtHalfBath   8.953390e-09  1.756686e-01\n",
            "KitchenAbvGr  -2.220484e+06  1.756024e-01\n",
            "LowQualFinSF  -8.320436e-08  1.755573e-01\n",
            "BsmtFinSF2    -4.704031e-07  1.755157e-01\n",
            "BsmtUnfSF      5.717176e+00  1.387763e-01\n",
            "HalfBath      -6.301316e+03  1.193026e-01\n",
            "Fireplaces     3.888897e+03  9.319374e-02\n",
            "YearRemodAdd   2.078734e+02  4.193302e-02\n",
            "GarageArea     2.856513e+01  3.332037e-02\n",
            "GarageCars     8.390205e+03  3.082289e-02\n",
            "YearBuilt      3.749430e+02  1.777860e-02\n",
            "LotArea        1.688840e+00  4.785599e-03\n",
            "OverallCond    7.568673e+03  3.219723e-04\n",
            "BedroomAbvGr  -1.025267e+04  1.152498e-04\n",
            "TotalBsmtSF    3.748325e+01  4.042901e-07\n",
            "GrLivArea      3.898821e+01  7.497790e-11\n",
            "2ndFlrSF       3.356781e+01  1.023036e-11\n",
            "BsmtFinSF1     3.176612e+01  4.640090e-12\n",
            "OverallQual    1.387246e+04  2.468500e-16\n",
            "EnclosedPorch  0.000000e+00           NaN\n",
            "3SsnPorch      0.000000e+00           NaN\n",
            "ScreenPorch    0.000000e+00           NaN\n",
            "PoolArea       0.000000e+00           NaN\n",
            "MiscVal        0.000000e+00           NaN\n"
          ]
        }
      ]
    },
    {
      "cell_type": "code",
      "source": [
        "# statistically significant variables\n",
        "X = X[[\"YearRemodAdd\",\n",
        "\"GarageArea\",\n",
        "\"GarageCars\",\n",
        "\"YearBuilt\",\n",
        "\"LotArea\",\n",
        "\"OverallCond\",\n",
        "\"BedroomAbvGr\",\n",
        "\"TotalBsmtSF\",\n",
        "\"GrLivArea\",\n",
        "\"2ndFlrSF\",\n",
        "\"BsmtFinSF1\",\n",
        "\"OverallQual\"]]\n",
        "X_test_file = select_numeric_test[[\"YearRemodAdd\",\n",
        "\"GarageArea\",\n",
        "\"GarageCars\",\n",
        "\"YearBuilt\",\n",
        "\"LotArea\",\n",
        "\"OverallCond\",\n",
        "\"BedroomAbvGr\",\n",
        "\"TotalBsmtSF\",\n",
        "\"GrLivArea\",\n",
        "\"2ndFlrSF\",\n",
        "\"BsmtFinSF1\",\n",
        "\"OverallQual\"]]"
      ],
      "metadata": {
        "id": "SFowjouR6GNA"
      },
      "execution_count": 9,
      "outputs": []
    },
    {
      "cell_type": "code",
      "source": [
        "import statsmodels.api as sm\n",
        "X_with_const = sm.add_constant(X)\n",
        "model = sm.OLS(y, X_with_const).fit()"
      ],
      "metadata": {
        "id": "MgvU7OQy6Paw"
      },
      "execution_count": 10,
      "outputs": []
    },
    {
      "cell_type": "code",
      "source": [
        "f_iloc = 0\n",
        "with open(\"submission.csv\", 'w') as file:\n",
        "  for i in id:\n",
        "    row = X_test_file.iloc[[f_iloc]]\n",
        "    row_with_const = sm.add_constant(row, has_constant='add')\n",
        "    a = model.predict(row_with_const)\n",
        "    if a.item() >0:\n",
        "      to_write = f\"{i},{a.item()}\\n\"\n",
        "    else:\n",
        "      to_write = f\"{i},{8000}\\n\"\n",
        "    file.write(to_write)\n",
        "    f_iloc += 1\n"
      ],
      "metadata": {
        "id": "8jB1EW-76cdu"
      },
      "execution_count": 11,
      "outputs": []
    }
  ]
}
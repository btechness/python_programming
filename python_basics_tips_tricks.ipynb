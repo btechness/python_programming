{
 "cells": [
  {
   "cell_type": "code",
   "execution_count": 1,
   "metadata": {},
   "outputs": [
    {
     "name": "stdout",
     "output_type": "stream",
     "text": [
      "2584490380464 2584490380464\n"
     ]
    }
   ],
   "source": [
    "# variable declaration\n",
    "# variable name can only contains alphanumeric and underscores, but cannot start with number\n",
    "# names are case sensitive\n",
    "\n",
    "a = \"av\"\n",
    "id(a)\n",
    "# 2118776899248\n",
    "a = a+\"a\"\n",
    "id(a)\n",
    "# 2118774498480\n",
    "a = a[:-1]\n",
    "id(a)\n",
    "# 2118774532656\n",
    "\n",
    "# slicing\n",
    "# a[1,3], returns values from index 1 to 2\n",
    "\n",
    "x = y = \"hello\"\n",
    "x\n",
    "# 'hello'\n",
    "print(id(x), id(y)) # same id\n",
    "# 2198234435440 2198234435440\n",
    "x, y = 2, 3\n",
    "x\n",
    "# 2\n",
    "\n",
    "x, *y = \"hello\"\n",
    "y\n",
    "# ['e', 'l', 'l', 'o']\n",
    "\n",
    "x, *y, z = \"hello\"\n",
    "y\n",
    "# ['e', 'l', 'l']\n",
    "a = \"hello\"\n",
    "b = a"
   ]
  },
  {
   "cell_type": "code",
   "execution_count": 2,
   "metadata": {},
   "outputs": [
    {
     "name": "stdout",
     "output_type": "stream",
     "text": [
      "True\n"
     ]
    }
   ],
   "source": [
    "s = \"my_var\"\n",
    "print(s.isidentifier()) "
   ]
  },
  {
   "cell_type": "code",
   "execution_count": 4,
   "metadata": {},
   "outputs": [
    {
     "name": "stdout",
     "output_type": "stream",
     "text": [
      "10 5\n"
     ]
    }
   ],
   "source": [
    "x, y = 5, 10\n",
    "x, y = y, x\n",
    "print(x, y)"
   ]
  },
  {
   "cell_type": "code",
   "execution_count": 5,
   "metadata": {},
   "outputs": [
    {
     "name": "stderr",
     "output_type": "stream",
     "text": [
      "INFO:root:x = 7.57, y = 3.54\n"
     ]
    },
    {
     "name": "stdout",
     "output_type": "stream",
     "text": [
      "x = 7.57, y = 3.54\n",
      "7.568 3.544\n"
     ]
    },
    {
     "data": {
      "text/plain": [
       "'3.54                '"
      ]
     },
     "execution_count": 5,
     "metadata": {},
     "output_type": "execute_result"
    }
   ],
   "source": [
    "# printing\n",
    "x = 7.568\n",
    "y = 3.544\n",
    "f\"x = {x:.2f}, y = {y: .2f}\"\n",
    "# 'x = 7.57, y =  3.54'\n",
    "\n",
    "\"x = {:.2f}, y = {: .2f}\".format(x,y)\n",
    "# 'x = 7.57, y =  3.54'\n",
    "\n",
    "\"x = {0:.2f}, y = {1: .2f}\".format(x,y)\n",
    "# 'x = 7.57, y =  3.54'\n",
    "\n",
    "\"x = %.2f, y = %f\"%(x,y)\n",
    "# 'x = 7.57, y = 3.544000'\n",
    "\n",
    "import sys\n",
    "sys.stdout.write(\"x = {:.2f}, y = {:.2f}\\n\".format(x, y))\n",
    "\n",
    "import logging\n",
    "logging.basicConfig(level=logging.INFO)\n",
    "logging.info(\"x = %.2f, y = %.2f\", x, y)\n",
    "x = 7.568\n",
    "y = 3.544\n",
    "\n",
    "print(x, end = \" \")\n",
    "print(y)\n",
    "f\"{y:<20.2f}\""
   ]
  },
  {
   "cell_type": "code",
   "execution_count": 6,
   "metadata": {},
   "outputs": [
    {
     "data": {
      "text/plain": [
       "True"
      ]
     },
     "execution_count": 6,
     "metadata": {},
     "output_type": "execute_result"
    }
   ],
   "source": [
    "# Infinity\n",
    "# any number can be stored in a variable, infinity can be stored with function float('inf') and float('-inf')\n",
    "float(\"inf\") + 1  \n",
    "#inf\n",
    "float(\"-inf\") - 1\t\n",
    "#-inf\n",
    "float(\"inf\") * 2\t\n",
    "#inf\n",
    "float(\"inf\") * -1\t\n",
    "#-inf\n",
    "1 / float(\"inf\")\t\n",
    "#0.0\n",
    "1 / float(\"-inf\")\t\n",
    "#-0.0\n",
    "float(\"inf\") - float(\"inf\")\n",
    "#nan\n",
    "float(\"-inf\") + float(\"inf\")\n",
    "#nan\n",
    "float(\"inf\") / float(\"inf\")\n",
    "# nan\n",
    "float(\"-inf\") / float(\"inf\")\n",
    "#nan\n",
    "0 * float(\"inf\")\n",
    "#nan\n",
    "float(\"inf\") > 1000000\n",
    "# True\n",
    "float(\"-inf\") < -1000000\n",
    "# True\n",
    "float(\"inf\") == float(\"inf\")\n",
    "# True\n",
    "float(\"inf\") == float(\"-inf\")\n",
    "# False\n",
    "float(\"inf\") > float(\"-inf\")\n",
    "# True"
   ]
  },
  {
   "cell_type": "code",
   "execution_count": 7,
   "metadata": {},
   "outputs": [],
   "source": [
    "# data types\n",
    "# Text Type:\tstr\n",
    "# Numeric Types:\tint, float, complex\n",
    "# Sequence Types:\tlist, tuple(mutable version of list), range\n",
    "# Mapping Type:\tdict\n",
    "# Set Types:\tset, frozenset(mutable version of btyes)\n",
    "# Boolean Type:\tbool\n",
    "# Binary Types:\tbytes, bytearray(mutable version of bytes), memoryview\n",
    "# None Type:\tNoneType"
   ]
  },
  {
   "cell_type": "code",
   "execution_count": 8,
   "metadata": {},
   "outputs": [
    {
     "name": "stdout",
     "output_type": "stream",
     "text": [
      "[1, 2, 3, 4]\n"
     ]
    }
   ],
   "source": [
    "# list\n",
    "nested = [[1, 2], [3, 4]]\n",
    "flat = [item for sublist in nested for item in sublist]\n",
    "print(flat)"
   ]
  },
  {
   "cell_type": "code",
   "execution_count": 4,
   "metadata": {},
   "outputs": [
    {
     "name": "stdout",
     "output_type": "stream",
     "text": [
      "[1, 2, 3, 4, 5, 6, 7, 8, 9, 10]\n"
     ]
    }
   ],
   "source": [
    "def flatten(lst):\n",
    "    return [item for sublist in lst for item in flatten(sublist)] if isinstance(lst, list) else [lst]\n",
    "\n",
    "nested = [1, [2, [3,[4,5], 6], 7], 8, [9, 10]]\n",
    "print(flatten(nested))"
   ]
  },
  {
   "cell_type": "code",
   "execution_count": 10,
   "metadata": {},
   "outputs": [
    {
     "name": "stdout",
     "output_type": "stream",
     "text": [
      "3\n"
     ]
    }
   ],
   "source": [
    "lst = [1, 2, 2, 3, 3, 3, 4]\n",
    "most_common = max(lst, key=lst.count)\n",
    "print(most_common) "
   ]
  },
  {
   "cell_type": "code",
   "execution_count": 11,
   "metadata": {},
   "outputs": [
    {
     "data": {
      "text/plain": [
       "[2, 4]"
      ]
     },
     "execution_count": 11,
     "metadata": {},
     "output_type": "execute_result"
    }
   ],
   "source": [
    "nums = [1, 2, 3, 4, 5]\n",
    "list(filter(lambda x: x % 2 == 0, nums))"
   ]
  },
  {
   "cell_type": "code",
   "execution_count": 12,
   "metadata": {},
   "outputs": [
    {
     "name": "stdout",
     "output_type": "stream",
     "text": [
      "[1, 2, 3, 4]\n"
     ]
    }
   ],
   "source": [
    "lst = [1, 2, 2, 3, 3, 4]\n",
    "unique = list(dict.fromkeys(lst))\n",
    "print(unique)"
   ]
  },
  {
   "cell_type": "code",
   "execution_count": null,
   "metadata": {},
   "outputs": [
    {
     "data": {
      "text/plain": [
       "{'1': 3, '2': 2, '3': 1, '4': 1}"
      ]
     },
     "execution_count": 2,
     "metadata": {},
     "output_type": "execute_result"
    }
   ],
   "source": [
    "lst = [1, 2, 3, 2, 1, 4, 1]\n",
    "{str(i):lst.count(i) for i in set(filter(lambda x: lst.count(x) > 1, lst))}"
   ]
  },
  {
   "cell_type": "code",
   "execution_count": 14,
   "metadata": {},
   "outputs": [
    {
     "name": "stdout",
     "output_type": "stream",
     "text": [
      "[1, 2, 3]\n"
     ]
    }
   ],
   "source": [
    "strings = [\"1\", \"2\", \"3\"]\n",
    "numbers = list(map(int, strings))\n",
    "print(numbers) "
   ]
  },
  {
   "cell_type": "code",
   "execution_count": 15,
   "metadata": {},
   "outputs": [
    {
     "data": {
      "text/plain": [
       "[2, 4]"
      ]
     },
     "execution_count": 15,
     "metadata": {},
     "output_type": "execute_result"
    }
   ],
   "source": [
    "list1 = [1, 2, 3, 4]\n",
    "list2 = [2, 4, 6, 8]\n",
    "list(filter(lambda x: x in list2, list1))"
   ]
  },
  {
   "cell_type": "code",
   "execution_count": 16,
   "metadata": {},
   "outputs": [
    {
     "name": "stdout",
     "output_type": "stream",
     "text": [
      "[[], [], [], [], []]\n",
      "[[1], [1], [1], [1], [1]]\n"
     ]
    }
   ],
   "source": [
    "empty = [[]] * 5\n",
    "print(empty)\n",
    "empty[1].append(1)\n",
    "print(empty)"
   ]
  },
  {
   "cell_type": "code",
   "execution_count": 17,
   "metadata": {},
   "outputs": [
    {
     "data": {
      "text/plain": [
       "[3, 4, 5, 1, 2]"
      ]
     },
     "execution_count": 17,
     "metadata": {},
     "output_type": "execute_result"
    }
   ],
   "source": [
    "# rotate list left by k positions, for right use -k\n",
    "lst = [1,2,3,4,5]\n",
    "k = 2\n",
    "lst[k:]+lst[:k] "
   ]
  },
  {
   "cell_type": "code",
   "execution_count": 18,
   "metadata": {},
   "outputs": [
    {
     "data": {
      "text/plain": [
       "[1, 4, 9, 16]"
      ]
     },
     "execution_count": 18,
     "metadata": {},
     "output_type": "execute_result"
    }
   ],
   "source": [
    "nums = [1, 2, 3, 4]\n",
    "list(map(lambda x: x**2, nums))"
   ]
  },
  {
   "cell_type": "code",
   "execution_count": 19,
   "metadata": {},
   "outputs": [
    {
     "name": "stdout",
     "output_type": "stream",
     "text": [
      "{1, 2, 3, 4, 5}\n",
      "{3}\n",
      "{1, 2}\n",
      "{1, 2, 4, 5}\n"
     ]
    }
   ],
   "source": [
    "# set\n",
    "A = {1,2,3}\n",
    "B = {3,4,5}\n",
    "print(A|B) # union\n",
    "print(A&B) # intersection\n",
    "print(A-B) # difference\n",
    "print(A^B) # symmetric difference"
   ]
  },
  {
   "cell_type": "code",
   "execution_count": 20,
   "metadata": {},
   "outputs": [
    {
     "name": "stdout",
     "output_type": "stream",
     "text": [
      "1\n"
     ]
    },
    {
     "data": {
      "text/plain": [
       "{2, 6}"
      ]
     },
     "execution_count": 20,
     "metadata": {},
     "output_type": "execute_result"
    }
   ],
   "source": [
    "A.add(6)\n",
    "A.remove(3)\n",
    "A.discard(10)\n",
    "print(A.pop()) # returns the pop elemet, begining of the list\n",
    "A"
   ]
  },
  {
   "cell_type": "code",
   "execution_count": 21,
   "metadata": {},
   "outputs": [
    {
     "name": "stdout",
     "output_type": "stream",
     "text": [
      "{0, 1, None}\n",
      "hello\n"
     ]
    }
   ],
   "source": [
    "print({1, True, 0, False, 1, None})\n",
    "values = [0, None, \"\", \"hello\"]\n",
    "print(next(v for v in values if v))"
   ]
  },
  {
   "cell_type": "code",
   "execution_count": 22,
   "metadata": {},
   "outputs": [
    {
     "name": "stdout",
     "output_type": "stream",
     "text": [
      "<class 'set'>\n"
     ]
    }
   ],
   "source": [
    "empty_set = set()\n",
    "print(type(empty_set))"
   ]
  },
  {
   "cell_type": "code",
   "execution_count": 24,
   "metadata": {},
   "outputs": [
    {
     "name": "stdout",
     "output_type": "stream",
     "text": [
      "<class 'dict'>\n",
      "<class 'dict'>\n",
      "{'a': 1}\n",
      "{'a': 1, 'b': 1}\n",
      "1\n"
     ]
    }
   ],
   "source": [
    "# dictionary\n",
    "a = {} \n",
    "print(type(a))\n",
    "a[\"a\"] = 1\n",
    "print(type(a))\n",
    "print(a)\n",
    "a.update({\"b\":1})\n",
    "print(a)\n",
    "print(a.get(\"a\", \"c\"))  "
   ]
  },
  {
   "cell_type": "code",
   "execution_count": 25,
   "metadata": {},
   "outputs": [
    {
     "name": "stdout",
     "output_type": "stream",
     "text": [
      "c\n"
     ]
    }
   ],
   "source": [
    "# find the key of the minimum value in dictionary\n",
    "d = {\"a\": 10, \"b\": 25, \"c\": 5}\n",
    "min_key = min(d, key=d.get)\n",
    "print(min_key)"
   ]
  },
  {
   "cell_type": "code",
   "execution_count": 26,
   "metadata": {},
   "outputs": [
    {
     "name": "stdout",
     "output_type": "stream",
     "text": [
      "{'b', 'c'}\n"
     ]
    }
   ],
   "source": [
    "# common keys\n",
    "d1 = {\"a\": 1, \"b\": 2, \"c\": 3}\n",
    "d2 = {\"b\": 4, \"c\": 5, \"d\": 6}\n",
    "common_keys = d1.keys() & d2.keys()\n",
    "print(common_keys)"
   ]
  },
  {
   "cell_type": "code",
   "execution_count": 27,
   "metadata": {},
   "outputs": [
    {
     "name": "stdout",
     "output_type": "stream",
     "text": [
      "{'a': 1, 'b': 3, 'c': 4}\n"
     ]
    }
   ],
   "source": [
    "d1 = {\"a\": 1, \"b\": 2}\n",
    "d2 = {\"b\": 3, \"c\": 4}\n",
    "merged = {**d1, **d2}\n",
    "print(merged)  # {'a': 1, 'b': 3, 'c': 4}"
   ]
  },
  {
   "cell_type": "code",
   "execution_count": 28,
   "metadata": {},
   "outputs": [
    {
     "name": "stdout",
     "output_type": "stream",
     "text": [
      "{'o': 1, 'l': 2, 'h': 1, 'e': 1}\n"
     ]
    }
   ],
   "source": [
    "# count frequency of words\n",
    "s = \"hello\"\n",
    "char_count = {char: s.count(char) for char in set(s)}\n",
    "print(char_count)"
   ]
  },
  {
   "cell_type": "code",
   "execution_count": 29,
   "metadata": {},
   "outputs": [
    {
     "name": "stdout",
     "output_type": "stream",
     "text": [
      "{'a': 1, 'b': 2, 'c': 3}\n"
     ]
    }
   ],
   "source": [
    "keys = [\"a\", \"b\", \"c\"]\n",
    "values = [1, 2, 3]\n",
    "print(dict(zip(keys, values))) "
   ]
  },
  {
   "cell_type": "code",
   "execution_count": 30,
   "metadata": {},
   "outputs": [
    {
     "name": "stdout",
     "output_type": "stream",
     "text": [
      "{'a': 3, 'c': 2, 'b': 1}\n"
     ]
    }
   ],
   "source": [
    "d = {\"a\": 3, \"b\": 1, \"c\": 2}\n",
    "sorted_d = dict(sorted(d.items(), key=lambda x: x[1], reverse=True))\n",
    "print(sorted_d) "
   ]
  },
  {
   "cell_type": "code",
   "execution_count": 31,
   "metadata": {},
   "outputs": [
    {
     "name": "stdout",
     "output_type": "stream",
     "text": [
      "{1: 'a', 2: 'b'}\n"
     ]
    }
   ],
   "source": [
    "# Swap keys and values\n",
    "d = {\"a\": 1, \"b\": 2}\n",
    "swapped = {v: k for k, v in d.items()}\n",
    "print(swapped)"
   ]
  },
  {
   "cell_type": "code",
   "execution_count": 32,
   "metadata": {},
   "outputs": [
    {
     "name": "stdout",
     "output_type": "stream",
     "text": [
      "1\n",
      "0\n"
     ]
    }
   ],
   "source": [
    "# bool\n",
    "print(int(True))  # 1\n",
    "print(int(False))  # 0"
   ]
  },
  {
   "cell_type": "code",
   "execution_count": 33,
   "metadata": {},
   "outputs": [
    {
     "name": "stdout",
     "output_type": "stream",
     "text": [
      "nohtyP\n"
     ]
    }
   ],
   "source": [
    "# string\n",
    "s = \"Python\"\n",
    "print(s[::-1])"
   ]
  },
  {
   "cell_type": "code",
   "execution_count": 34,
   "metadata": {},
   "outputs": [
    {
     "name": "stdout",
     "output_type": "stream",
     "text": [
      "Python is awesome\n"
     ]
    }
   ],
   "source": [
    "words = [\"Python\", \"is\", \"awesome\"]\n",
    "sentence = \" \".join(words)\n",
    "print(sentence)"
   ]
  },
  {
   "cell_type": "code",
   "execution_count": 35,
   "metadata": {},
   "outputs": [],
   "source": [
    "A.clear()"
   ]
  },
  {
   "cell_type": "code",
   "execution_count": 36,
   "metadata": {},
   "outputs": [
    {
     "name": "stdout",
     "output_type": "stream",
     "text": [
      "b'ABCD'\n"
     ]
    }
   ],
   "source": [
    "b = bytes([65, 66, 67, 68])  # ASCII values\n",
    "print(b)  # Output: b'ABCD'"
   ]
  },
  {
   "cell_type": "code",
   "execution_count": 37,
   "metadata": {},
   "outputs": [
    {
     "name": "stdout",
     "output_type": "stream",
     "text": [
      "65\n",
      "b'BC'\n"
     ]
    }
   ],
   "source": [
    "print(b[0])  # Output: 65\n",
    "print(b[1:3])  # Output: b'BC'"
   ]
  },
  {
   "cell_type": "code",
   "execution_count": 38,
   "metadata": {},
   "outputs": [
    {
     "name": "stdout",
     "output_type": "stream",
     "text": [
      "bytearray(b'aBCD')\n",
      "2584492390144\n",
      "2584494331184\n"
     ]
    }
   ],
   "source": [
    "data = bytearray([65, 66, 67, 68])  # b'ABCD'\n",
    "mv = memoryview(data)  # No new copy, just a reference\n",
    "\n",
    "mv[0] = 97  # Changing 'A' (65) to 'a' (97)\n",
    "print(data)  # Output: bytearray(b'aBCD') (original is modified)\n",
    "print(id(mv))\n",
    "print(id(data)) # ids are different but changing mv changes the data"
   ]
  },
  {
   "cell_type": "code",
   "execution_count": 39,
   "metadata": {},
   "outputs": [
    {
     "data": {
      "text/plain": [
       "'3.11.9 (tags/v3.11.9:de54cf5, Apr  2 2024, 10:12:12) [MSC v.1938 64 bit (AMD64)]'"
      ]
     },
     "execution_count": 39,
     "metadata": {},
     "output_type": "execute_result"
    }
   ],
   "source": [
    "sys.version"
   ]
  },
  {
   "cell_type": "code",
   "execution_count": null,
   "metadata": {},
   "outputs": [],
   "source": [
    "# symlink\n",
    "import os\n",
    "\n",
    "os.symlink(\"somefile.txt\", \"link.txt\")\n",
    "# link.txt points to the original.txt, breaks if original is deleted, hard link still points to the data if the file is deleted\n",
    "# Symbolic links can link files and directories across different filesystems and partitions. Hard links can only be created within a file system"
   ]
  },
  {
   "cell_type": "code",
   "execution_count": 40,
   "metadata": {},
   "outputs": [],
   "source": [
    "# List is a collection which is ordered and changeable.\n",
    "# Tuple is a collection which is ordered and unchangeable.\n",
    "# Set is a collection which is unordered, unchangeable*, and unindexed. No duplicate.\n",
    "# Dictionary is a collection which is ordered** and changeable. No duplicate members.\n",
    "# *Set items are unchangeable\n",
    "# **As of Python version 3.7, dictionaries are ordered"
   ]
  },
  {
   "cell_type": "code",
   "execution_count": 41,
   "metadata": {},
   "outputs": [
    {
     "name": "stdout",
     "output_type": "stream",
     "text": [
      "['mela', 'banana', 'mela', 'banana', 'mela']\n",
      "['banana', 'banana']\n",
      "{'mela0': 0, 'banana1': 1, 'mela2': 2, 'banana3': 3, 'mela4': 4}\n",
      "{'banana1': 1, 'banana3': 3}\n",
      "{'banana', 'mela'}\n",
      "{'banana'}\n",
      "mela <generator object <genexpr> at 0x00000259BFDA98A0>\n",
      "banana\n"
     ]
    }
   ],
   "source": [
    "# list comprehension \n",
    "print([\"banana\" if i%2 else \"mela\" for i in range(5)])\n",
    "print([\"banana\" for i in range(5) if i%2])\n",
    "\n",
    "# dictionary comprehension\n",
    "print({(\"banana\"+str(i)) if i%2 else (\"mela\"+str(i)):i for i in range(5)})\n",
    "print({(\"banana\"+str(i)) :i for i in range(5) if i%2})\n",
    "\n",
    "# set comprehension\n",
    "print({\"banana\" if i%2 else \"mela\" for i in range(5)})\n",
    "print({\"banana\" for i in range(5) if i%2})\n",
    "\n",
    "# Generator expression\n",
    "a = (\"banana\" if i%2 else \"mela\" for i in range(5))\n",
    "b = (\"banana\" for i in range(5) if i%2)\n",
    "print(next(a), a)\n",
    "print(next(b))"
   ]
  },
  {
   "cell_type": "code",
   "execution_count": 42,
   "metadata": {},
   "outputs": [
    {
     "name": "stdout",
     "output_type": "stream",
     "text": [
      "Hello\n"
     ]
    }
   ],
   "source": [
    "# if else\n",
    "x = 1\n",
    "y = 2\n",
    "if x!=1:\n",
    "    print(y)\n",
    "elif y==1: # n number of elif can be used\n",
    "    print(x)\n",
    "else:\n",
    "    print(\"Hello\")"
   ]
  },
  {
   "cell_type": "code",
   "execution_count": 43,
   "metadata": {},
   "outputs": [
    {
     "name": "stdout",
     "output_type": "stream",
     "text": [
      "hello\n",
      "hell\n",
      "hel\n",
      "he\n",
      "h\n"
     ]
    }
   ],
   "source": [
    "# while loop\n",
    "a = \"hello\"\n",
    "b = \"h\"\n",
    "\n",
    "while b in a:\n",
    "    print(a)\n",
    "    a=a[:-1]"
   ]
  },
  {
   "cell_type": "code",
   "execution_count": 44,
   "metadata": {},
   "outputs": [
    {
     "name": "stdout",
     "output_type": "stream",
     "text": [
      "hello\n",
      "thanks\n"
     ]
    }
   ],
   "source": [
    "# for loop\n",
    "for i in {\"hello\", \"hello\", \"thanks\"}: # any iterable can be used\n",
    "    print(i)"
   ]
  },
  {
   "cell_type": "code",
   "execution_count": 45,
   "metadata": {},
   "outputs": [
    {
     "name": "stdout",
     "output_type": "stream",
     "text": [
      "thanks\n"
     ]
    }
   ],
   "source": [
    "for i in [\"hello\", \"hello\", \"thanks\"]:\n",
    "    if \"hell\" in i:\n",
    "        continue\n",
    "    else:\n",
    "        print(i)"
   ]
  },
  {
   "cell_type": "code",
   "execution_count": 46,
   "metadata": {},
   "outputs": [
    {
     "name": "stdout",
     "output_type": "stream",
     "text": [
      "0 a\n",
      "1 b\n",
      "2 c\n"
     ]
    }
   ],
   "source": [
    "for i, value in enumerate([\"a\", \"b\", \"c\"]):\n",
    "    print(i, value)"
   ]
  },
  {
   "cell_type": "code",
   "execution_count": 47,
   "metadata": {},
   "outputs": [
    {
     "name": "stdout",
     "output_type": "stream",
     "text": [
      "hello"
     ]
    }
   ],
   "source": [
    "for char in \"hello\":\n",
    "    print(char, end=\"\")"
   ]
  },
  {
   "cell_type": "code",
   "execution_count": 48,
   "metadata": {},
   "outputs": [
    {
     "name": "stdout",
     "output_type": "stream",
     "text": [
      "£\n",
      "None\n"
     ]
    }
   ],
   "source": [
    "print(print(\"£\"))"
   ]
  },
  {
   "cell_type": "code",
   "execution_count": 49,
   "metadata": {},
   "outputs": [
    {
     "data": {
      "text/plain": [
       "['o', 'l', 'l', 'e', 'h']"
      ]
     },
     "execution_count": 49,
     "metadata": {},
     "output_type": "execute_result"
    }
   ],
   "source": [
    "list(reversed(\"hello\"))"
   ]
  },
  {
   "cell_type": "code",
   "execution_count": 50,
   "metadata": {},
   "outputs": [
    {
     "name": "stdout",
     "output_type": "stream",
     "text": [
      "Alice 25\n",
      "Bob 30\n"
     ]
    }
   ],
   "source": [
    "names = [\"Alice\", \"Bob\"]\n",
    "ages = [25, 30]\n",
    "for name, age in zip(names, ages): # zip is an iterator\n",
    "    print(name, age)"
   ]
  },
  {
   "cell_type": "code",
   "execution_count": 51,
   "metadata": {},
   "outputs": [
    {
     "name": "stdout",
     "output_type": "stream",
     "text": [
      "0\n",
      "1\n",
      "2\n",
      "Loop finished!\n"
     ]
    }
   ],
   "source": [
    "for i in range(3):\n",
    "    if i == 2:\n",
    "        break  # Breaks before the loop fully completes\n",
    "else:\n",
    "    print(\"Loop finished!\")  # This won’t run\n",
    "\n",
    "# Without break, `else` executes\n",
    "for i in range(3):\n",
    "    print(i)\n",
    "else:\n",
    "    print(\"Loop finished!\")  # Runs"
   ]
  },
  {
   "cell_type": "code",
   "execution_count": 52,
   "metadata": {},
   "outputs": [
    {
     "data": {
      "text/plain": [
       "4"
      ]
     },
     "execution_count": 52,
     "metadata": {},
     "output_type": "execute_result"
    }
   ],
   "source": [
    "a=lambda x: x**2\n",
    "a(2) # returns the result of the expression"
   ]
  },
  {
   "cell_type": "code",
   "execution_count": 53,
   "metadata": {},
   "outputs": [
    {
     "name": "stdout",
     "output_type": "stream",
     "text": [
      "40\n",
      "40\n",
      "False\n",
      "3\n",
      "0\n",
      "-6\n",
      "6\n"
     ]
    }
   ],
   "source": [
    "# operators\n",
    "a = 5  #  0101 in binary\n",
    "b = 3  #  0011 in binary\n",
    "print(a << b)  # 0110 (6 in decimal)\n",
    "a <<= b\n",
    "print(a)\n",
    "# assignment operators like print(a ^= b) creates syntax error\n",
    "print(a==b) # comparison operator returns bool\n",
    "print(a and b) # It returns the first false value or the last truth value\n",
    "print(a & b) # returns bitwise or \n",
    "a = 5\n",
    "print(~a) # bitwise not a returns -(a + 1)\n",
    "# +x  -x  ~x\tUnary plus, unary minus, and bitwise NOT\n",
    "# +  -  *  /  //  %\t**\tAddition, Subtraction Multiplication, division, floor division, modulus, exponentiation\n",
    "# <<  >>  &  |  ^\tBitwise: left shifts, right shifts, and, or, xor \n",
    "# ==  !=  >  >=  <  <=\tcomparison\n",
    "# is  is not\tidentity\n",
    "# in  not in\tmembership\n",
    "# and  or  not\tlogical \n",
    "print(a := a ^ b)  # walrus operator to assign & print\n"
   ]
  },
  {
   "cell_type": "code",
   "execution_count": 54,
   "metadata": {},
   "outputs": [
    {
     "name": "stdout",
     "output_type": "stream",
     "text": [
      "True\n",
      "False\n",
      "False\n",
      "list True\n",
      "int True\n",
      "dictionary True\n",
      "list True\n",
      "[[2], 3, {'a': 1}]\n",
      "[[2], 3, {'a': 1}]\n",
      "item False\n",
      "[[2], 3, {'a': 1}]\n",
      "[[2], 5, {'a': 1}]\n",
      "dictionary True\n",
      "[[2], 3, {'a': 2}]\n",
      "[[2], 5, {'a': 2}]\n",
      "False\n",
      "list False\n",
      "int True\n",
      "dictionary False\n",
      "list False\n",
      "[[1], 3, {'a': 1}]\n",
      "[[2], 3, {'a': 1}]\n",
      "item False\n",
      "[[1], 3, {'a': 1}]\n",
      "[[2], 5, {'a': 1}]\n",
      "dictionary False\n",
      "[[1], 3, {'a': 1}]\n",
      "[[2], 5, {'a': 2}]\n"
     ]
    }
   ],
   "source": [
    "# shallow copy and deep copy, object must be mutatble\n",
    "l1 = [1,2,3,4]\n",
    "l2 = l1\n",
    "print(id(l1) == id(l2))\n",
    "\n",
    "l3 = l1.copy()\n",
    "print(id(l1) == id(l3))\n",
    "\n",
    "l1 = [[1], 3, {\"a\":1}]\n",
    "l2 = l1.copy()\n",
    "print(id(l1) == id(l2))\n",
    "print(\"list\",id(l1[0]) == id(l2[0])) # id same\n",
    "print(\"int\",id(l1[1]) == id(l2[1])) # id same\n",
    "print(\"dictionary\",id(l1[2]) == id(l2[2])) # id same\n",
    "\n",
    "l1[0][0] = 2\n",
    "print(\"list\", id(l1[0]) == id(l2[0])) # id same\n",
    "print(l2)\n",
    "print(l1)\n",
    "\n",
    "l1[1] = 5\n",
    "print(\"item\", id(l1[1]) == id(l2[1])) # id different\n",
    "print(l2)\n",
    "print(l1)\n",
    "\n",
    "l1[2][\"a\"] = 2\n",
    "print(\"dictionary\", id(l1[2]) == id(l2[2])) # id same\n",
    "print(l2)\n",
    "print(l1)\n",
    "\n",
    "import copy\n",
    "\n",
    "# l2 = copy.copy(l1) same as l1.copy, creates a shallow copy\n",
    "\n",
    "l1 = [[1], 3, {\"a\":1}]\n",
    "l2 = copy.deepcopy(l1)\n",
    "print(id(l1) == id(l2))\n",
    "print(\"list\",id(l1[0]) == id(l2[0])) # id different\n",
    "print(\"int\",id(l1[1]) == id(l2[1])) # id same\n",
    "print(\"dictionary\",id(l1[2]) == id(l2[2])) # id different\n",
    "\n",
    "l1[0][0] = 2\n",
    "print(\"list\", id(l1[0]) == id(l2[0])) # id diff\n",
    "print(l2)\n",
    "print(l1)\n",
    "\n",
    "l1[1] = 5\n",
    "print(\"item\", id(l1[1]) == id(l2[1])) # id different\n",
    "print(l2)\n",
    "print(l1)\n",
    "\n",
    "l1[2][\"a\"] = 2\n",
    "print(\"dictionary\", id(l1[2]) == id(l2[2])) # id diff\n",
    "print(l2)\n",
    "print(l1)"
   ]
  },
  {
   "cell_type": "code",
   "execution_count": 55,
   "metadata": {},
   "outputs": [
    {
     "name": "stdout",
     "output_type": "stream",
     "text": [
      "{'a': 1, '_b': 2, '_A__c': 3}\n",
      "['a', '_b', '_A__c', '__module__', '__init__', 'pp', '__dict__', '__weakref__', '__doc__', '__new__', '__repr__', '__hash__', '__str__', '__getattribute__', '__setattr__', '__delattr__', '__lt__', '__le__', '__eq__', '__ne__', '__gt__', '__ge__', '__reduce_ex__', '__reduce__', '__getstate__', '__subclasshook__', '__init_subclass__', '__format__', '__sizeof__', '__dir__', '__class__']\n",
      "1\n",
      "2\n",
      "3\n",
      "a: 1, b: 2, c: 3\n",
      "None\n"
     ]
    }
   ],
   "source": [
    "class A:\n",
    "    def __init__(self, a,b,c):\n",
    "        self.a = a\n",
    "        self._b = b\n",
    "        self.__c = c\n",
    "\n",
    "    def pp(self):\n",
    "        print(\"a: {}, b: {}, c: {}\".format(self.a, self._b, self._A__c))\n",
    "a = A(1,2,3)\n",
    "\n",
    "print(a.__dict__)\n",
    "print(a.__dir__())\n",
    "print(a.a)\n",
    "print(a._b)\n",
    "print(a._A__c) # python applies name mangling, the __c item really doesn't become private\n",
    "print(a.pp())"
   ]
  },
  {
   "cell_type": "code",
   "execution_count": 56,
   "metadata": {},
   "outputs": [
    {
     "name": "stdout",
     "output_type": "stream",
     "text": [
      "{'a': 1, '_b': 2, '_A__c': 3, 'd': 4}\n",
      "['a', '_b', '_A__c', 'd', '__module__', '__init__', 'pp', '__doc__', '__dict__', '__weakref__', '__new__', '__repr__', '__hash__', '__str__', '__getattribute__', '__setattr__', '__delattr__', '__lt__', '__le__', '__eq__', '__ne__', '__gt__', '__ge__', '__reduce_ex__', '__reduce__', '__getstate__', '__subclasshook__', '__init_subclass__', '__format__', '__sizeof__', '__dir__', '__class__']\n",
      "1\n",
      "2\n",
      "3\n",
      "4\n",
      "a: 1, b: 2, c: 3, d: 4\n"
     ]
    }
   ],
   "source": [
    "class B(A):\n",
    "    def __init__(self, a, b, c, d):\n",
    "        super().__init__(a,b,c)\n",
    "        self.d = d\n",
    "\n",
    "    def pp(self):\n",
    "        print(\"a: {}, b: {}, c: {}, d: {}\".format(self.a, self._b, self._A__c, self.d))\n",
    "b=B(1,2,3,4)\n",
    "\n",
    "print(b.__dict__)\n",
    "print(b.__dir__())\n",
    "print(b.a)\n",
    "print(b._b)\n",
    "print(b._A__c)\n",
    "print(b.d)\n",
    "b.pp()"
   ]
  },
  {
   "cell_type": "code",
   "execution_count": 57,
   "metadata": {},
   "outputs": [
    {
     "name": "stdout",
     "output_type": "stream",
     "text": [
      "IA\n",
      "IB\n",
      "IC\n",
      "(<class '__main__.C'>, <class '__main__.A'>, <class '__main__.B'>, <class 'object'>)\n",
      "A\n"
     ]
    }
   ],
   "source": [
    "# multiple inheritence \n",
    "class A:\n",
    "    def __init__(self, a):\n",
    "        self.a = a\n",
    "        print(\"IA\")\n",
    "    def pp(self):\n",
    "        print(f\"A\")\n",
    "class B:\n",
    "    def __init__(self, b):\n",
    "        self.b = b\n",
    "        print(\"IB\")\n",
    "\n",
    "    def pp(self):\n",
    "        print(f\"B\")\n",
    "\n",
    "class C(A, B):\n",
    "    def __init__(self, a, b, c):\n",
    "        super().__init__(a) # or A.__init__(a)\n",
    "        B.__init__(self, b)\n",
    "        self.c = c\n",
    "        print(\"IC\")\n",
    "\n",
    "\n",
    "c = C(1,2,3)\n",
    "print(C.__mro__)\n",
    "c.pp() # A, is printed as per MRO\n",
    "# python follows C3 Linearization MRO"
   ]
  },
  {
   "cell_type": "code",
   "execution_count": 58,
   "metadata": {},
   "outputs": [],
   "source": [
    "# The Diamond problem doesn’t exist in Python because it gives preference to the class that gets inherited first."
   ]
  },
  {
   "cell_type": "code",
   "execution_count": 59,
   "metadata": {},
   "outputs": [
    {
     "name": "stdout",
     "output_type": "stream",
     "text": [
      "BASE\n",
      "B\n",
      "A\n",
      "BASE\n",
      "B\n",
      "C\n",
      "(<class '__main__.C'>, <class '__main__.A'>, <class '__main__.B'>, <class '__main__.Base'>, <class 'object'>)\n"
     ]
    }
   ],
   "source": [
    "class Base:\n",
    "    def __init__(self, a):\n",
    "        self.a = a\n",
    "        print(\"BASE\")\n",
    "\n",
    "class A(Base):\n",
    "    def __init__(self, a):\n",
    "        super().__init__(a)\n",
    "        print(\"A\")\n",
    "\n",
    "class B(Base):\n",
    "    def __init__(self, a):\n",
    "        super().__init__(a)\n",
    "        print(\"B\")\n",
    "\n",
    "class C(A, B):\n",
    "    def __init__(self, a, b):\n",
    "        super().__init__(a)\n",
    "        B.__init__(self, a) \n",
    "        self.b = b\n",
    "        print(\"C\")\n",
    "\n",
    "c = C(1,2)\n",
    "print(C.__mro__)"
   ]
  },
  {
   "cell_type": "code",
   "execution_count": null,
   "metadata": {},
   "outputs": [],
   "source": [
    "# output should be, don't know what is happening\n",
    "BASE\n",
    "A\n",
    "BASE\n",
    "B\n",
    "C\n",
    "(<class '__main__.C'>, <class '__main__.A'>, <class '__main__.B'>, <class '__main__.Base'>, <class 'object'>)"
   ]
  },
  {
   "cell_type": "code",
   "execution_count": 60,
   "metadata": {},
   "outputs": [
    {
     "ename": "TypeError",
     "evalue": "B.__init__() missing 1 required positional argument: 'c'",
     "output_type": "error",
     "traceback": [
      "\u001b[1;31m---------------------------------------------------------------------------\u001b[0m",
      "\u001b[1;31mTypeError\u001b[0m                                 Traceback (most recent call last)",
      "Cell \u001b[1;32mIn[60], line 28\u001b[0m\n\u001b[0;32m     25\u001b[0m         \u001b[38;5;28mself\u001b[39m\u001b[38;5;241m.\u001b[39md \u001b[38;5;241m=\u001b[39m d\n\u001b[0;32m     26\u001b[0m         \u001b[38;5;28mprint\u001b[39m(\u001b[38;5;124m\"\u001b[39m\u001b[38;5;124mC\u001b[39m\u001b[38;5;124m\"\u001b[39m)\n\u001b[1;32m---> 28\u001b[0m c \u001b[38;5;241m=\u001b[39m \u001b[43mC\u001b[49m\u001b[43m(\u001b[49m\u001b[38;5;241;43m1\u001b[39;49m\u001b[43m,\u001b[49m\u001b[38;5;241;43m2\u001b[39;49m\u001b[43m,\u001b[49m\u001b[38;5;241;43m3\u001b[39;49m\u001b[43m,\u001b[49m\u001b[38;5;241;43m4\u001b[39;49m\u001b[43m)\u001b[49m\n",
      "Cell \u001b[1;32mIn[60], line 21\u001b[0m, in \u001b[0;36mC.__init__\u001b[1;34m(self, a, b, c, d)\u001b[0m\n\u001b[0;32m     20\u001b[0m \u001b[38;5;28;01mdef\u001b[39;00m \u001b[38;5;21m__init__\u001b[39m(\u001b[38;5;28mself\u001b[39m, a, b, c, d):\n\u001b[1;32m---> 21\u001b[0m     \u001b[38;5;28;43msuper\u001b[39;49m\u001b[43m(\u001b[49m\u001b[43m)\u001b[49m\u001b[38;5;241;43m.\u001b[39;49m\u001b[38;5;21;43m__init__\u001b[39;49m\u001b[43m(\u001b[49m\u001b[43ma\u001b[49m\u001b[43m,\u001b[49m\u001b[43m \u001b[49m\u001b[43mb\u001b[49m\u001b[43m)\u001b[49m\n\u001b[0;32m     22\u001b[0m     B\u001b[38;5;241m.\u001b[39m\u001b[38;5;21m__init__\u001b[39m(\u001b[38;5;28mself\u001b[39m, a, c) \n\u001b[0;32m     23\u001b[0m     \u001b[38;5;66;03m# super().__init__(a, c)\u001b[39;00m\n\u001b[0;32m     24\u001b[0m     \u001b[38;5;66;03m# self.c = c\u001b[39;00m\n",
      "Cell \u001b[1;32mIn[60], line 9\u001b[0m, in \u001b[0;36mA.__init__\u001b[1;34m(self, a, b)\u001b[0m\n\u001b[0;32m      8\u001b[0m \u001b[38;5;28;01mdef\u001b[39;00m \u001b[38;5;21m__init__\u001b[39m(\u001b[38;5;28mself\u001b[39m, a, b):\n\u001b[1;32m----> 9\u001b[0m     \u001b[38;5;28;43msuper\u001b[39;49m\u001b[43m(\u001b[49m\u001b[43m)\u001b[49m\u001b[38;5;241;43m.\u001b[39;49m\u001b[38;5;21;43m__init__\u001b[39;49m\u001b[43m(\u001b[49m\u001b[43ma\u001b[49m\u001b[43m)\u001b[49m\n\u001b[0;32m     10\u001b[0m     \u001b[38;5;28mself\u001b[39m\u001b[38;5;241m.\u001b[39mb \u001b[38;5;241m=\u001b[39m b\n\u001b[0;32m     11\u001b[0m     \u001b[38;5;28mprint\u001b[39m(\u001b[38;5;124m\"\u001b[39m\u001b[38;5;124mA\u001b[39m\u001b[38;5;124m\"\u001b[39m)\n",
      "\u001b[1;31mTypeError\u001b[0m: B.__init__() missing 1 required positional argument: 'c'"
     ]
    }
   ],
   "source": [
    "# same calling order translates to the eror below\n",
    "class Base:\n",
    "    def __init__(self, a):\n",
    "        self.a = a\n",
    "        print(\"BASE\")\n",
    "\n",
    "class A(Base):\n",
    "    def __init__(self, a, b):\n",
    "        super().__init__(a)\n",
    "        self.b = b\n",
    "        print(\"A\")\n",
    "\n",
    "class B(Base):\n",
    "    def __init__(self, a, c):\n",
    "        super().__init__(a)\n",
    "        self.c = c\n",
    "        print(\"B\")\n",
    "\n",
    "class C(A, B):\n",
    "    def __init__(self, a, b, c, d):\n",
    "        super().__init__(a, b)\n",
    "        B.__init__(self, a, c) \n",
    "        # super().__init__(a, c)\n",
    "        # self.c = c\n",
    "        self.d = d\n",
    "        print(\"C\")\n",
    "\n",
    "c = C(1,2,3,4)"
   ]
  },
  {
   "cell_type": "code",
   "execution_count": 61,
   "metadata": {},
   "outputs": [
    {
     "name": "stdout",
     "output_type": "stream",
     "text": [
      "BASE\n",
      "B\n",
      "A\n",
      "C\n",
      "(<class '__main__.C'>, <class '__main__.A'>, <class '__main__.B'>, <class '__main__.Base'>, <class 'object'>)\n"
     ]
    }
   ],
   "source": [
    "# this works though B wan't initialised explicitely\n",
    "class Base:\n",
    "    def __init__(self, a):\n",
    "        self.a = a\n",
    "        print(\"BASE\")\n",
    "\n",
    "class A(Base):\n",
    "    def __init__(self, a):\n",
    "        super().__init__(a)\n",
    "        print(\"A\")\n",
    "\n",
    "class B(Base):\n",
    "    def __init__(self, a):\n",
    "        super().__init__(a)\n",
    "        print(\"B\")\n",
    "\n",
    "class C(A, B):\n",
    "    def __init__(self, a, b):\n",
    "        super().__init__(a)\n",
    "        # B.__init__(self, a) \n",
    "        self.b = b\n",
    "        print(\"C\")\n",
    "\n",
    "c = C(1,2)\n",
    "print(C.__mro__)"
   ]
  },
  {
   "cell_type": "code",
   "execution_count": 62,
   "metadata": {},
   "outputs": [
    {
     "name": "stdout",
     "output_type": "stream",
     "text": [
      "26\n"
     ]
    }
   ],
   "source": [
    "# arguments before the / , are positional-only, and arguments after the *, are keyword-only.\n",
    "\n",
    "def my_function(a, b, /, *, c, d):\n",
    "  print(a + b + c + d)\n",
    "\n",
    "my_function(5, 6, c = 7, d = 8)"
   ]
  },
  {
   "cell_type": "code",
   "execution_count": 63,
   "metadata": {},
   "outputs": [
    {
     "name": "stdout",
     "output_type": "stream",
     "text": [
      "1 (2, 3)\n"
     ]
    }
   ],
   "source": [
    "# this works\n",
    "def foo(a, /, *b ):\n",
    "    print(a, b)\n",
    "\n",
    "foo(1,2,3)"
   ]
  },
  {
   "cell_type": "code",
   "execution_count": 64,
   "metadata": {},
   "outputs": [
    {
     "ename": "SyntaxError",
     "evalue": "* argument may appear only once (4200758967.py, line 1)",
     "output_type": "error",
     "traceback": [
      "\u001b[1;36m  Cell \u001b[1;32mIn[64], line 1\u001b[1;36m\u001b[0m\n\u001b[1;33m    def foo(a, /, *b , *, c):\u001b[0m\n\u001b[1;37m                       ^\u001b[0m\n\u001b[1;31mSyntaxError\u001b[0m\u001b[1;31m:\u001b[0m * argument may appear only once\n"
     ]
    }
   ],
   "source": [
    "def foo(a, /, *b , *, c):\n",
    "    print(a, b)\n",
    "\n",
    "foo(1,2,3, c=4)"
   ]
  },
  {
   "cell_type": "code",
   "execution_count": 65,
   "metadata": {},
   "outputs": [
    {
     "ename": "SyntaxError",
     "evalue": "* argument may appear only once (1870783778.py, line 1)",
     "output_type": "error",
     "traceback": [
      "\u001b[1;36m  Cell \u001b[1;32mIn[65], line 1\u001b[1;36m\u001b[0m\n\u001b[1;33m    def foo(a, /, *, c, *d):\u001b[0m\n\u001b[1;37m                        ^\u001b[0m\n\u001b[1;31mSyntaxError\u001b[0m\u001b[1;31m:\u001b[0m * argument may appear only once\n"
     ]
    }
   ],
   "source": [
    "def foo(a, /, *, c, *d):\n",
    "    print(a, b, c, d)\n",
    "\n",
    "foo(1,2,3,4)"
   ]
  },
  {
   "cell_type": "code",
   "execution_count": 66,
   "metadata": {},
   "outputs": [
    {
     "name": "stdout",
     "output_type": "stream",
     "text": [
      "(1, 2, 3) {'a': 1, 'b': 2}\n"
     ]
    }
   ],
   "source": [
    "def foo(*a, **b): \n",
    "    print(a,b)\n",
    "\n",
    "foo(1,2,3, a=1, b=2) # calling stack is filled left to right i.e. 1 gets called first b last, \n",
    "# keyword/name args cannot be passed before positional args"
   ]
  },
  {
   "cell_type": "code",
   "execution_count": 67,
   "metadata": {},
   "outputs": [
    {
     "ename": "SyntaxError",
     "evalue": "invalid syntax (1760983934.py, line 4)",
     "output_type": "error",
     "traceback": [
      "\u001b[1;36m  Cell \u001b[1;32mIn[67], line 4\u001b[1;36m\u001b[0m\n\u001b[1;33m    foo(1,2,3, a=b=2)\u001b[0m\n\u001b[1;37m                  ^\u001b[0m\n\u001b[1;31mSyntaxError\u001b[0m\u001b[1;31m:\u001b[0m invalid syntax\n"
     ]
    }
   ],
   "source": [
    "def foo(*a, **b):\n",
    "    print(a,b)\n",
    "\n",
    "foo(1,2,3, a=b=2)"
   ]
  },
  {
   "cell_type": "code",
   "execution_count": 69,
   "metadata": {},
   "outputs": [
    {
     "name": "stdout",
     "output_type": "stream",
     "text": [
      "50\n",
      "50\n"
     ]
    }
   ],
   "source": [
    "# scope\n",
    "x=10\n",
    "\n",
    "def foo():\n",
    "    global x\n",
    "    x = 50\n",
    "foo()\n",
    "print(x)\n",
    "\n",
    "def zoo():\n",
    "    x=20\n",
    "\n",
    "zoo()\n",
    "print(x)"
   ]
  },
  {
   "cell_type": "code",
   "execution_count": 57,
   "metadata": {},
   "outputs": [
    {
     "name": "stdout",
     "output_type": "stream",
     "text": [
      "Inside inner: Hello, Python!\n",
      "Inside outer: Hello, Python!\n",
      "Outside: Hello, World!\n"
     ]
    }
   ],
   "source": [
    "def outer():\n",
    "    message = \"Hello\"\n",
    "    \n",
    "    def inner():\n",
    "        nonlocal message  # Reference the enclosing variable\n",
    "        message = \"Hello, Python!\"  # Modify it\n",
    "        print(\"Inside inner:\", message)\n",
    "    \n",
    "    inner()\n",
    "    print(\"Inside outer:\", message)\n",
    "message = \"Hello, World!\"\n",
    "outer()\n",
    "print(\"Outside:\", message)"
   ]
  },
  {
   "cell_type": "code",
   "execution_count": 70,
   "metadata": {},
   "outputs": [
    {
     "ename": "TabError",
     "evalue": "None (<string>)",
     "output_type": "error",
     "traceback": [
      "Traceback \u001b[1;36m(most recent call last)\u001b[0m:\n",
      "\u001b[0m  File \u001b[0;32m~\\AppData\\Local\\Packages\\PythonSoftwareFoundation.Python.3.11_qbz5n2kfra8p0\\LocalCache\\local-packages\\Python311\\site-packages\\IPython\\core\\interactiveshell.py:3577\u001b[0m in \u001b[0;35mrun_code\u001b[0m\n    exec(code_obj, self.user_global_ns, self.user_ns)\u001b[0m\n",
      "\u001b[0m  Cell \u001b[0;32mIn[70], line 5\u001b[0m\n    foo(0)\u001b[0m\n",
      "\u001b[1;36m  Cell \u001b[1;32mIn[70], line 4\u001b[1;36m in \u001b[1;35mfoo\u001b[1;36m\n\u001b[1;33m    raise TabError # stops the code execution and raise error\u001b[1;36m\n",
      "\u001b[1;36m  File \u001b[1;32m<string>\u001b[1;36m\u001b[0m\n\u001b[1;31mTabError\u001b[0m\n"
     ]
    }
   ],
   "source": [
    "# raising error\n",
    "def foo(x):\n",
    "    if x==0:\n",
    "        raise TabError # stops the code execution and raise error\n",
    "foo(0)"
   ]
  },
  {
   "cell_type": "code",
   "execution_count": 71,
   "metadata": {},
   "outputs": [
    {
     "name": "stdout",
     "output_type": "stream",
     "text": [
      "[Errno 2] No such file or directory: 'some.txt'\n",
      "FileNotFoundError was handled\n"
     ]
    }
   ],
   "source": [
    "# handling error\n",
    "try:\n",
    "    f = open(\"some.txt\")\n",
    "except FileNotFoundError as f:\n",
    "    print(f)\n",
    "except Exception as e: # there can be n number of except\n",
    "    print(e)\n",
    "finally: # always executes, and is used to clean up resources for example f.close() but instead we will print something\n",
    "    print(\"FileNotFoundError was handled\")"
   ]
  },
  {
   "cell_type": "code",
   "execution_count": null,
   "metadata": {},
   "outputs": [],
   "source": [
    "re = input() # returns keyboard input as string\n",
    "name = input() or \"Guest\"  # If input is empty, use \"Guest\""
   ]
  },
  {
   "cell_type": "code",
   "execution_count": 72,
   "metadata": {},
   "outputs": [
    {
     "name": "stdout",
     "output_type": "stream",
     "text": [
      "[0, 1, 1, 2, 3, 5, 8, 13, 21, 34]\n"
     ]
    }
   ],
   "source": [
    "fib = [0,1]\n",
    "\n",
    "for i in range(2,10):\n",
    "    fib.append(fib[-1]+fib[-2])\n",
    "\n",
    "print(fib)"
   ]
  },
  {
   "cell_type": "code",
   "execution_count": 73,
   "metadata": {},
   "outputs": [
    {
     "name": "stdout",
     "output_type": "stream",
     "text": [
      "True\n"
     ]
    }
   ],
   "source": [
    "# check if a number is a power of two\n",
    "n = 8\n",
    "print(n > 0 and (n & (n - 1)) == 0)"
   ]
  },
  {
   "cell_type": "code",
   "execution_count": 74,
   "metadata": {},
   "outputs": [
    {
     "name": "stdout",
     "output_type": "stream",
     "text": [
      "12\n"
     ]
    }
   ],
   "source": [
    "# gcd of two numbers\n",
    "a, b = 36, 60\n",
    "while b:\n",
    "    a, b = b, a % b\n",
    "print(a)"
   ]
  },
  {
   "cell_type": "code",
   "execution_count": 75,
   "metadata": {},
   "outputs": [
    {
     "name": "stdout",
     "output_type": "stream",
     "text": [
      "120\n"
     ]
    }
   ],
   "source": [
    "# factorial\n",
    "n = 5\n",
    "fact = 1\n",
    "for i in range(1, n+1):\n",
    "    fact *= i\n",
    "\n",
    "print(fact)"
   ]
  },
  {
   "cell_type": "code",
   "execution_count": 76,
   "metadata": {},
   "outputs": [
    {
     "name": "stdout",
     "output_type": "stream",
     "text": [
      "101\n"
     ]
    }
   ],
   "source": [
    "# convert an integer to binary without\n",
    "n = 5\n",
    "binary = \"\"\n",
    "while n:\n",
    "    binary = str(n % 2) + binary\n",
    "    n //= 2\n",
    "print(binary)"
   ]
  },
  {
   "cell_type": "code",
   "execution_count": 77,
   "metadata": {},
   "outputs": [
    {
     "name": "stdout",
     "output_type": "stream",
     "text": [
      "30\n"
     ]
    }
   ],
   "source": [
    "# largest of the three numbers\n",
    "a, b, c = 10, 20, 30\n",
    "\n",
    "print(b if a > b and a > c else b if b > c else c)"
   ]
  },
  {
   "cell_type": "code",
   "execution_count": 78,
   "metadata": {},
   "outputs": [
    {
     "name": "stdout",
     "output_type": "stream",
     "text": [
      "4321\n"
     ]
    }
   ],
   "source": [
    "# reverse the number\n",
    "n, rev = 1234, 0\n",
    "\n",
    "while n > 0:\n",
    "    rev = rev*10 + n%10\n",
    "    n //= 10\n",
    "\n",
    "print(rev)"
   ]
  },
  {
   "cell_type": "code",
   "execution_count": 79,
   "metadata": {},
   "outputs": [],
   "source": [
    "# # Modes\n",
    "# \"r\" - Read - Default value. Opens a file for reading, error if the file does not exist\n",
    "# \"a\" - Append - Opens a file for appending, creates the file if it does not exist\n",
    "# \"w\" - Write - Opens a file for writing, creates the file if it does not exist\n",
    "# \"x\" - Create - Creates the specified file, returns an error if the file exists\n",
    "\n",
    "# # binary or text mode\n",
    "# \"t\" - Text - Default value. Text mode\n",
    "# \"b\" - Binary - Binary mode (e.g. images)\n",
    "# +, eg. w+ write and read"
   ]
  },
  {
   "cell_type": "code",
   "execution_count": null,
   "metadata": {},
   "outputs": [],
   "source": [
    "with open(\"example.txt\", \"w+\") as file: # no need to close file with file.close()\n",
    "    file.write(\"This will overwrite the file if it exists.\")\n",
    "    file.seek(0)\n",
    "    for x in file.read(): # read line by line\n",
    "        print(x) "
   ]
  },
  {
   "cell_type": "code",
   "execution_count": 1,
   "metadata": {},
   "outputs": [
    {
     "data": {
      "text/plain": [
       "['__add__',\n",
       " '__class__',\n",
       " '__class_getitem__',\n",
       " '__contains__',\n",
       " '__delattr__',\n",
       " '__delitem__',\n",
       " '__dir__',\n",
       " '__doc__',\n",
       " '__eq__',\n",
       " '__format__',\n",
       " '__ge__',\n",
       " '__getattribute__',\n",
       " '__getitem__',\n",
       " '__getstate__',\n",
       " '__gt__',\n",
       " '__hash__',\n",
       " '__iadd__',\n",
       " '__imul__',\n",
       " '__init__',\n",
       " '__init_subclass__',\n",
       " '__iter__',\n",
       " '__le__',\n",
       " '__len__',\n",
       " '__lt__',\n",
       " '__mul__',\n",
       " '__ne__',\n",
       " '__new__',\n",
       " '__reduce__',\n",
       " '__reduce_ex__',\n",
       " '__repr__',\n",
       " '__reversed__',\n",
       " '__rmul__',\n",
       " '__setattr__',\n",
       " '__setitem__',\n",
       " '__sizeof__',\n",
       " '__str__',\n",
       " '__subclasshook__',\n",
       " 'append',\n",
       " 'clear',\n",
       " 'copy',\n",
       " 'count',\n",
       " 'extend',\n",
       " 'index',\n",
       " 'insert',\n",
       " 'pop',\n",
       " 'remove',\n",
       " 'reverse',\n",
       " 'sort']"
      ]
     },
     "execution_count": 1,
     "metadata": {},
     "output_type": "execute_result"
    }
   ],
   "source": [
    "nums=[1,2,3,4,5]\n",
    "dir(nums)"
   ]
  },
  {
   "cell_type": "code",
   "execution_count": null,
   "metadata": {},
   "outputs": [
    {
     "name": "stdout",
     "output_type": "stream",
     "text": [
      "Help on list object:\n",
      "\n",
      "class list(object)\n",
      " |  list(iterable=(), /)\n",
      " |  \n",
      " |  Built-in mutable sequence.\n",
      " |  \n",
      " |  If no argument is given, the constructor creates a new empty list.\n",
      " |  The argument must be an iterable if specified.\n",
      " |  \n",
      " |  Methods defined here:\n",
      " |  \n",
      " |  __add__(self, value, /)\n",
      " |      Return self+value.\n",
      " |  \n",
      " |  __contains__(self, key, /)\n",
      " |      Return key in self.\n",
      " |  \n",
      " |  __delitem__(self, key, /)\n",
      " |      Delete self[key].\n",
      " |  \n",
      " |  __eq__(self, value, /)\n",
      " |      Return self==value.\n",
      " |  \n",
      " |  __ge__(self, value, /)\n",
      " |      Return self>=value.\n",
      " |  \n",
      " |  __getattribute__(self, name, /)\n",
      " |      Return getattr(self, name).\n",
      " |  \n",
      " |  __getitem__(...)\n",
      " |      x.__getitem__(y) <==> x[y]\n",
      " |  \n",
      " |  __gt__(self, value, /)\n",
      " |      Return self>value.\n",
      " |  \n",
      " |  __iadd__(self, value, /)\n",
      " |      Implement self+=value.\n",
      " |  \n",
      " |  __imul__(self, value, /)\n",
      " |      Implement self*=value.\n",
      " |  \n",
      " |  __init__(self, /, *args, **kwargs)\n",
      " |      Initialize self.  See help(type(self)) for accurate signature.\n",
      " |  \n",
      " |  __iter__(self, /)\n",
      " |      Implement iter(self).\n",
      " |  \n",
      " |  __le__(self, value, /)\n",
      " |      Return self<=value.\n",
      " |  \n",
      " |  __len__(self, /)\n",
      " |      Return len(self).\n",
      " |  \n",
      " |  __lt__(self, value, /)\n",
      " |      Return self<value.\n",
      " |  \n",
      " |  __mul__(self, value, /)\n",
      " |      Return self*value.\n",
      " |  \n",
      " |  __ne__(self, value, /)\n",
      " |      Return self!=value.\n",
      " |  \n",
      " |  __repr__(self, /)\n",
      " |      Return repr(self).\n",
      " |  \n",
      " |  __reversed__(self, /)\n",
      " |      Return a reverse iterator over the list.\n",
      " |  \n",
      " |  __rmul__(self, value, /)\n",
      " |      Return value*self.\n",
      " |  \n",
      " |  __setitem__(self, key, value, /)\n",
      " |      Set self[key] to value.\n",
      " |  \n",
      " |  __sizeof__(self, /)\n",
      " |      Return the size of the list in memory, in bytes.\n",
      " |  \n",
      " |  append(self, object, /)\n",
      " |      Append object to the end of the list.\n",
      " |  \n",
      " |  clear(self, /)\n",
      " |      Remove all items from list.\n",
      " |  \n",
      " |  copy(self, /)\n",
      " |      Return a shallow copy of the list.\n",
      " |  \n",
      " |  count(self, value, /)\n",
      " |      Return number of occurrences of value.\n",
      " |  \n",
      " |  extend(self, iterable, /)\n",
      " |      Extend list by appending elements from the iterable.\n",
      " |  \n",
      " |  index(self, value, start=0, stop=9223372036854775807, /)\n",
      " |      Return first index of value.\n",
      " |      \n",
      " |      Raises ValueError if the value is not present.\n",
      " |  \n",
      " |  insert(self, index, object, /)\n",
      " |      Insert object before index.\n",
      " |  \n",
      " |  pop(self, index=-1, /)\n",
      " |      Remove and return item at index (default last).\n",
      " |      \n",
      " |      Raises IndexError if list is empty or index is out of range.\n",
      " |  \n",
      " |  remove(self, value, /)\n",
      " |      Remove first occurrence of value.\n",
      " |      \n",
      " |      Raises ValueError if the value is not present.\n",
      " |  \n",
      " |  reverse(self, /)\n",
      " |      Reverse *IN PLACE*.\n",
      " |  \n",
      " |  sort(self, /, *, key=None, reverse=False)\n",
      " |      Sort the list in ascending order and return None.\n",
      " |      \n",
      " |      The sort is in-place (i.e. the list itself is modified) and stable (i.e. the\n",
      " |      order of two equal elements is maintained).\n",
      " |      \n",
      " |      If a key function is given, apply it once to each list item and sort them,\n",
      " |      ascending or descending, according to their function values.\n",
      " |      \n",
      " |      The reverse flag can be set to sort in descending order.\n",
      " |  \n",
      " |  ----------------------------------------------------------------------\n",
      " |  Class methods defined here:\n",
      " |  \n",
      " |  __class_getitem__(...)\n",
      " |      See PEP 585\n",
      " |  \n",
      " |  ----------------------------------------------------------------------\n",
      " |  Static methods defined here:\n",
      " |  \n",
      " |  __new__(*args, **kwargs)\n",
      " |      Create and return a new object.  See help(type) for accurate signature.\n",
      " |  \n",
      " |  ----------------------------------------------------------------------\n",
      " |  Data and other attributes defined here:\n",
      " |  \n",
      " |  __hash__ = None\n",
      "\n"
     ]
    }
   ],
   "source": [
    "help(nums) #most imp stuff"
   ]
  },
  {
   "cell_type": "code",
   "execution_count": null,
   "metadata": {},
   "outputs": [
    {
     "name": "stdout",
     "output_type": "stream",
     "text": [
      "1\n"
     ]
    }
   ],
   "source": [
    "i_nums = nums.__iter__()\n",
    "print(i_nums.__next__()) # prints 1\n",
    "print(nums.__next__()) # raises error"
   ]
  },
  {
   "cell_type": "code",
   "execution_count": 45,
   "metadata": {},
   "outputs": [
    {
     "name": "stdout",
     "output_type": "stream",
     "text": [
      "1\n",
      "2\n",
      "3\n",
      "4\n",
      "5\n",
      "6\n",
      "7\n",
      "8\n",
      "9\n"
     ]
    }
   ],
   "source": [
    "# iterator has __iter__ and __next__ methods dunder methods\n",
    "class MyRange: # self is not a keyword, here to refer the class instance elf is used\n",
    "    def __init__(elf, start, end):\n",
    "        elf.value = start\n",
    "        elf.end = end\n",
    "\n",
    "    def __iter__(elf):\n",
    "        return elf\n",
    "\n",
    "    def __next__(elf):\n",
    "        if elf.value >= elf.end:\n",
    "            raise StopIteration\n",
    "        current = elf.value\n",
    "        elf.value += 1\n",
    "        return current\n",
    "    \n",
    "nums = MyRange(1, 10)\n",
    "while True:\n",
    "    try:\n",
    "        print(next(nums))\n",
    "    except StopIteration:\n",
    "        break   \n"
   ]
  },
  {
   "cell_type": "code",
   "execution_count": 46,
   "metadata": {},
   "outputs": [
    {
     "name": "stdout",
     "output_type": "stream",
     "text": [
      "1\n",
      "2\n",
      "3\n",
      "4\n",
      "5\n",
      "6\n",
      "7\n",
      "8\n",
      "9\n"
     ]
    }
   ],
   "source": [
    "# generators\n",
    "def my_range(start, end):\n",
    "    current = start\n",
    "    while current < end:\n",
    "        yield current\n",
    "        current += 1\n",
    "\n",
    "nums = my_range(1, 10)\n",
    "while True:\n",
    "    try:\n",
    "        print(next(nums))\n",
    "    except StopIteration:\n",
    "        break   "
   ]
  },
  {
   "cell_type": "code",
   "execution_count": null,
   "metadata": {},
   "outputs": [
    {
     "name": "stdout",
     "output_type": "stream",
     "text": [
      "Help on generator object:\n",
      "\n",
      "my_range = class generator(object)\n",
      " |  Methods defined here:\n",
      " |  \n",
      " |  __del__(...)\n",
      " |  \n",
      " |  __getattribute__(self, name, /)\n",
      " |      Return getattr(self, name).\n",
      " |  \n",
      " |  __iter__(self, /)\n",
      " |      Implement iter(self).\n",
      " |  \n",
      " |  __next__(self, /)\n",
      " |      Implement next(self).\n",
      " |  \n",
      " |  __repr__(self, /)\n",
      " |      Return repr(self).\n",
      " |  \n",
      " |  __sizeof__(...)\n",
      " |      gen.__sizeof__() -> size of gen in memory, in bytes\n",
      " |  \n",
      " |  close(...)\n",
      " |      close() -> raise GeneratorExit inside generator.\n",
      " |  \n",
      " |  send(...)\n",
      " |      send(arg) -> send 'arg' into generator,\n",
      " |      return next yielded value or raise StopIteration.\n",
      " |  \n",
      " |  throw(...)\n",
      " |      throw(value)\n",
      " |      throw(type[,value[,tb]])\n",
      " |      \n",
      " |      Raise exception in generator, return next yielded value or raise\n",
      " |      StopIteration.\n",
      " |  \n",
      " |  ----------------------------------------------------------------------\n",
      " |  Data descriptors defined here:\n",
      " |  \n",
      " |  gi_code\n",
      " |  \n",
      " |  gi_frame\n",
      " |  \n",
      " |  gi_running\n",
      " |  \n",
      " |  gi_suspended\n",
      " |  \n",
      " |  gi_yieldfrom\n",
      " |      object being iterated by yield from, or None\n",
      "\n"
     ]
    }
   ],
   "source": [
    "# iterable is something that can be looped, iterator is something that can be looped and has __iter__ and __next__ methods\n",
    "# generator is a function that returns an iterator and uses yield, that is it produces values while the function is running and doesn't store the values in memory\n",
    "help(nums)"
   ]
  },
  {
   "cell_type": "code",
   "execution_count": null,
   "metadata": {},
   "outputs": [
    {
     "name": "stdout",
     "output_type": "stream",
     "text": [
      "hi\n"
     ]
    }
   ],
   "source": [
    "# closures\n",
    "def outer_function():\n",
    "    msg = \"hi\"\n",
    "    def inner_function():\n",
    "        print(msg)\n",
    "    return inner_function()\n",
    "\n",
    "outer_function()\n",
    "\n",
    "def outer_function():\n",
    "    msg = \"hi\"\n",
    "    def inner_function():\n",
    "        print(msg)\n",
    "    return inner_function\n",
    "\n",
    "hi_func = outer_function() # hi_func is closure\n",
    "hi_func() # exevutes inner_function"
   ]
  },
  {
   "cell_type": "code",
   "execution_count": 25,
   "metadata": {},
   "outputs": [
    {
     "name": "stdout",
     "output_type": "stream",
     "text": [
      "outer\n",
      "outer\n"
     ]
    }
   ],
   "source": [
    "def outer_function(msg):\n",
    "    print(\"outer\")\n",
    "    def inner_function():\n",
    "        print(msg)\n",
    "    return inner_function\n",
    "\n",
    "hi_func = outer_function(\"hi\") \n",
    "by_func = outer_function(\"bye\") "
   ]
  },
  {
   "cell_type": "code",
   "execution_count": 26,
   "metadata": {},
   "outputs": [
    {
     "name": "stdout",
     "output_type": "stream",
     "text": [
      "hi\n",
      "bye\n"
     ]
    }
   ],
   "source": [
    "hi_func()\n",
    "by_func()"
   ]
  },
  {
   "cell_type": "code",
   "execution_count": 28,
   "metadata": {},
   "outputs": [
    {
     "name": "stdout",
     "output_type": "stream",
     "text": [
      "decor\n"
     ]
    }
   ],
   "source": [
    "# decorators \n",
    "def decor(input_func):\n",
    "    print(\"decor\") # a decorator\n",
    "    def wrap():\n",
    "        return input_func()\n",
    "    return wrap\n",
    "\n",
    "def func():\n",
    "    print(\"Hello\")\n",
    "\n",
    "a = decor(func)"
   ]
  },
  {
   "cell_type": "code",
   "execution_count": 29,
   "metadata": {},
   "outputs": [
    {
     "name": "stdout",
     "output_type": "stream",
     "text": [
      "Hello\n"
     ]
    }
   ],
   "source": [
    "a()"
   ]
  },
  {
   "cell_type": "code",
   "execution_count": 36,
   "metadata": {},
   "outputs": [
    {
     "name": "stdout",
     "output_type": "stream",
     "text": [
      "decor\n",
      "wrap\n",
      "Hello\n"
     ]
    }
   ],
   "source": [
    "# decorators \n",
    "def decor(input_func):\n",
    "    print(\"decor\") # a decorator\n",
    "    def wrap():\n",
    "        print(\"wrap\")\n",
    "        return input_func()\n",
    "    return wrap\n",
    "\n",
    "@decor\n",
    "def func():\n",
    "    print(\"Hello\")\n",
    "\n",
    "func()"
   ]
  },
  {
   "cell_type": "code",
   "execution_count": null,
   "metadata": {},
   "outputs": [],
   "source": [
    "# call order outer function->inner function->input function\n",
    "# wrapper func must have equal or more args than input function"
   ]
  },
  {
   "cell_type": "code",
   "execution_count": null,
   "metadata": {},
   "outputs": [
    {
     "name": "stdout",
     "output_type": "stream",
     "text": [
      "decor\n",
      "decor\n",
      "wrap\n",
      "Hello\n",
      "wrap\n",
      "True Love wrap\n",
      "Cupid Gorilla "
     ]
    }
   ],
   "source": [
    "# decorators \n",
    "def decor(input_func):\n",
    "    print(\"decor\") # a decorator\n",
    "    def wrap(*a):\n",
    "        print(\"wrap\")\n",
    "        return input_func(*a)\n",
    "    return wrap\n",
    "\n",
    "@decor\n",
    "def func():\n",
    "    print(\"Hello\")\n",
    "\n",
    "@decor\n",
    "def bunk(a,b):\n",
    "    print(a,b, end=\" \")\n",
    "\n",
    "func()\n",
    "bunk(\"True\", \"Love\")\n",
    "bunk(\"Cupid\", \"Gorilla\")"
   ]
  },
  {
   "cell_type": "code",
   "execution_count": null,
   "metadata": {},
   "outputs": [],
   "source": [
    "# decor is attached to function during function definition, i.e interpretation time and is not called each time a decorated function is called"
   ]
  },
  {
   "cell_type": "code",
   "execution_count": 49,
   "metadata": {},
   "outputs": [
    {
     "name": "stdout",
     "output_type": "stream",
     "text": [
      "decor\n",
      "decor\n",
      "wrap\n",
      "Hello\n",
      "wrap\n",
      "Cupid Gorilla "
     ]
    }
   ],
   "source": [
    "# decorators as class\n",
    "\n",
    "class Decor:\n",
    "    def __init__(elf, input_func):\n",
    "        print(\"decor\")\n",
    "        elf.input_func = input_func\n",
    "\n",
    "    def __call__(elf, *a):\n",
    "        print(\"wrap\")\n",
    "        return elf.input_func(*a)\n",
    "    \n",
    "@Decor\n",
    "def func():\n",
    "    print(\"Hello\")\n",
    "\n",
    "@Decor\n",
    "def bunk(a,b):\n",
    "    print(a,b, end=\" \")\n",
    "\n",
    "func()\n",
    "bunk(\"Cupid\", \"Gorilla\")"
   ]
  },
  {
   "cell_type": "code",
   "execution_count": 55,
   "metadata": {},
   "outputs": [
    {
     "name": "stdout",
     "output_type": "stream",
     "text": [
      "Call 1 of rap\n",
      "Hello World.\n",
      "Call 2 of rap\n",
      "Hello Trash.\n",
      "Call 3 of rap\n",
      "Hello Keep it up!.\n"
     ]
    }
   ],
   "source": [
    "def music(input_func):\n",
    "    count = 0\n",
    "    def rap(*args, **kwargs):\n",
    "        nonlocal count\n",
    "        count+=1\n",
    "        print(f\"Call {count} of {rap.__name__}\")\n",
    "        return input_func(*args, **kwargs)\n",
    "    return rap\n",
    "\n",
    "@music\n",
    "def func(a):\n",
    "    print(f\"Hello {a}.\")\n",
    "\n",
    "func(\"World\")\n",
    "func(\"Trash\")\n",
    "func(\"Keep it up!\")"
   ]
  }
 ],
 "metadata": {
  "kernelspec": {
   "display_name": "Python 3",
   "language": "python",
   "name": "python3"
  },
  "language_info": {
   "codemirror_mode": {
    "name": "ipython",
    "version": 3
   },
   "file_extension": ".py",
   "mimetype": "text/x-python",
   "name": "python",
   "nbconvert_exporter": "python",
   "pygments_lexer": "ipython3",
   "version": "3.11.9"
  }
 },
 "nbformat": 4,
 "nbformat_minor": 2
}

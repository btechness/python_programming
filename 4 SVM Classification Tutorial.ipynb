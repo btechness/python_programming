{
 "cells": [
  {
   "cell_type": "markdown",
   "id": "50e215e2",
   "metadata": {},
   "source": [
    "SVM Classification Tutorial"
   ]
  },
  {
   "cell_type": "code",
   "execution_count": 320,
   "id": "980e0b25",
   "metadata": {},
   "outputs": [
    {
     "data": {
      "text/html": [
       "<div>\n",
       "<style scoped>\n",
       "    .dataframe tbody tr th:only-of-type {\n",
       "        vertical-align: middle;\n",
       "    }\n",
       "\n",
       "    .dataframe tbody tr th {\n",
       "        vertical-align: top;\n",
       "    }\n",
       "\n",
       "    .dataframe thead th {\n",
       "        text-align: right;\n",
       "    }\n",
       "</style>\n",
       "<table border=\"1\" class=\"dataframe\">\n",
       "  <thead>\n",
       "    <tr style=\"text-align: right;\">\n",
       "      <th></th>\n",
       "      <th>name</th>\n",
       "      <th>role</th>\n",
       "      <th>type</th>\n",
       "      <th>demographic</th>\n",
       "      <th>description</th>\n",
       "      <th>units</th>\n",
       "      <th>missing_values</th>\n",
       "    </tr>\n",
       "  </thead>\n",
       "  <tbody>\n",
       "    <tr>\n",
       "      <th>0</th>\n",
       "      <td>age</td>\n",
       "      <td>Feature</td>\n",
       "      <td>Integer</td>\n",
       "      <td>Age</td>\n",
       "      <td>N/A</td>\n",
       "      <td>None</td>\n",
       "      <td>no</td>\n",
       "    </tr>\n",
       "    <tr>\n",
       "      <th>1</th>\n",
       "      <td>workclass</td>\n",
       "      <td>Feature</td>\n",
       "      <td>Categorical</td>\n",
       "      <td>Income</td>\n",
       "      <td>Private, Self-emp-not-inc, Self-emp-inc, Feder...</td>\n",
       "      <td>None</td>\n",
       "      <td>yes</td>\n",
       "    </tr>\n",
       "    <tr>\n",
       "      <th>2</th>\n",
       "      <td>fnlwgt</td>\n",
       "      <td>Feature</td>\n",
       "      <td>Integer</td>\n",
       "      <td>None</td>\n",
       "      <td>None</td>\n",
       "      <td>None</td>\n",
       "      <td>no</td>\n",
       "    </tr>\n",
       "    <tr>\n",
       "      <th>3</th>\n",
       "      <td>education</td>\n",
       "      <td>Feature</td>\n",
       "      <td>Categorical</td>\n",
       "      <td>Education Level</td>\n",
       "      <td>Bachelors, Some-college, 11th, HS-grad, Prof-...</td>\n",
       "      <td>None</td>\n",
       "      <td>no</td>\n",
       "    </tr>\n",
       "    <tr>\n",
       "      <th>4</th>\n",
       "      <td>education-num</td>\n",
       "      <td>Feature</td>\n",
       "      <td>Integer</td>\n",
       "      <td>Education Level</td>\n",
       "      <td>None</td>\n",
       "      <td>None</td>\n",
       "      <td>no</td>\n",
       "    </tr>\n",
       "    <tr>\n",
       "      <th>5</th>\n",
       "      <td>marital-status</td>\n",
       "      <td>Feature</td>\n",
       "      <td>Categorical</td>\n",
       "      <td>Other</td>\n",
       "      <td>Married-civ-spouse, Divorced, Never-married, S...</td>\n",
       "      <td>None</td>\n",
       "      <td>no</td>\n",
       "    </tr>\n",
       "    <tr>\n",
       "      <th>6</th>\n",
       "      <td>occupation</td>\n",
       "      <td>Feature</td>\n",
       "      <td>Categorical</td>\n",
       "      <td>Other</td>\n",
       "      <td>Tech-support, Craft-repair, Other-service, Sal...</td>\n",
       "      <td>None</td>\n",
       "      <td>yes</td>\n",
       "    </tr>\n",
       "    <tr>\n",
       "      <th>7</th>\n",
       "      <td>relationship</td>\n",
       "      <td>Feature</td>\n",
       "      <td>Categorical</td>\n",
       "      <td>Other</td>\n",
       "      <td>Wife, Own-child, Husband, Not-in-family, Other...</td>\n",
       "      <td>None</td>\n",
       "      <td>no</td>\n",
       "    </tr>\n",
       "    <tr>\n",
       "      <th>8</th>\n",
       "      <td>race</td>\n",
       "      <td>Feature</td>\n",
       "      <td>Categorical</td>\n",
       "      <td>Race</td>\n",
       "      <td>White, Asian-Pac-Islander, Amer-Indian-Eskimo,...</td>\n",
       "      <td>None</td>\n",
       "      <td>no</td>\n",
       "    </tr>\n",
       "    <tr>\n",
       "      <th>9</th>\n",
       "      <td>sex</td>\n",
       "      <td>Feature</td>\n",
       "      <td>Binary</td>\n",
       "      <td>Sex</td>\n",
       "      <td>Female, Male.</td>\n",
       "      <td>None</td>\n",
       "      <td>no</td>\n",
       "    </tr>\n",
       "    <tr>\n",
       "      <th>10</th>\n",
       "      <td>capital-gain</td>\n",
       "      <td>Feature</td>\n",
       "      <td>Integer</td>\n",
       "      <td>None</td>\n",
       "      <td>None</td>\n",
       "      <td>None</td>\n",
       "      <td>no</td>\n",
       "    </tr>\n",
       "    <tr>\n",
       "      <th>11</th>\n",
       "      <td>capital-loss</td>\n",
       "      <td>Feature</td>\n",
       "      <td>Integer</td>\n",
       "      <td>None</td>\n",
       "      <td>None</td>\n",
       "      <td>None</td>\n",
       "      <td>no</td>\n",
       "    </tr>\n",
       "    <tr>\n",
       "      <th>12</th>\n",
       "      <td>hours-per-week</td>\n",
       "      <td>Feature</td>\n",
       "      <td>Integer</td>\n",
       "      <td>None</td>\n",
       "      <td>None</td>\n",
       "      <td>None</td>\n",
       "      <td>no</td>\n",
       "    </tr>\n",
       "    <tr>\n",
       "      <th>13</th>\n",
       "      <td>native-country</td>\n",
       "      <td>Feature</td>\n",
       "      <td>Categorical</td>\n",
       "      <td>Other</td>\n",
       "      <td>United-States, Cambodia, England, Puerto-Rico,...</td>\n",
       "      <td>None</td>\n",
       "      <td>yes</td>\n",
       "    </tr>\n",
       "    <tr>\n",
       "      <th>14</th>\n",
       "      <td>income</td>\n",
       "      <td>Target</td>\n",
       "      <td>Binary</td>\n",
       "      <td>Income</td>\n",
       "      <td>&gt;50K, &lt;=50K.</td>\n",
       "      <td>None</td>\n",
       "      <td>no</td>\n",
       "    </tr>\n",
       "  </tbody>\n",
       "</table>\n",
       "</div>"
      ],
      "text/plain": [
       "              name     role         type      demographic  \\\n",
       "0              age  Feature      Integer              Age   \n",
       "1        workclass  Feature  Categorical           Income   \n",
       "2           fnlwgt  Feature      Integer             None   \n",
       "3        education  Feature  Categorical  Education Level   \n",
       "4    education-num  Feature      Integer  Education Level   \n",
       "5   marital-status  Feature  Categorical            Other   \n",
       "6       occupation  Feature  Categorical            Other   \n",
       "7     relationship  Feature  Categorical            Other   \n",
       "8             race  Feature  Categorical             Race   \n",
       "9              sex  Feature       Binary              Sex   \n",
       "10    capital-gain  Feature      Integer             None   \n",
       "11    capital-loss  Feature      Integer             None   \n",
       "12  hours-per-week  Feature      Integer             None   \n",
       "13  native-country  Feature  Categorical            Other   \n",
       "14          income   Target       Binary           Income   \n",
       "\n",
       "                                          description units missing_values  \n",
       "0                                                 N/A  None             no  \n",
       "1   Private, Self-emp-not-inc, Self-emp-inc, Feder...  None            yes  \n",
       "2                                                None  None             no  \n",
       "3    Bachelors, Some-college, 11th, HS-grad, Prof-...  None             no  \n",
       "4                                                None  None             no  \n",
       "5   Married-civ-spouse, Divorced, Never-married, S...  None             no  \n",
       "6   Tech-support, Craft-repair, Other-service, Sal...  None            yes  \n",
       "7   Wife, Own-child, Husband, Not-in-family, Other...  None             no  \n",
       "8   White, Asian-Pac-Islander, Amer-Indian-Eskimo,...  None             no  \n",
       "9                                       Female, Male.  None             no  \n",
       "10                                               None  None             no  \n",
       "11                                               None  None             no  \n",
       "12                                               None  None             no  \n",
       "13  United-States, Cambodia, England, Puerto-Rico,...  None            yes  \n",
       "14                                       >50K, <=50K.  None             no  "
      ]
     },
     "execution_count": 320,
     "metadata": {},
     "output_type": "execute_result"
    }
   ],
   "source": [
    "from ucimlrepo import fetch_ucirepo\n",
    "income=fetch_ucirepo(id=2)\n",
    "x=income.data.features\n",
    "x[\"target\"]=income.data.targets\n",
    "income.variables"
   ]
  },
  {
   "cell_type": "code",
   "execution_count": 321,
   "id": "77952231",
   "metadata": {},
   "outputs": [],
   "source": [
    "data=x"
   ]
  },
  {
   "cell_type": "markdown",
   "id": "599b8cb7",
   "metadata": {},
   "source": [
    "EDA"
   ]
  },
  {
   "cell_type": "code",
   "execution_count": 322,
   "id": "bb93dd23",
   "metadata": {},
   "outputs": [
    {
     "data": {
      "text/plain": [
       "array(['<=50K', '>50K', '<=50K.', '>50K.'], dtype=object)"
      ]
     },
     "execution_count": 322,
     "metadata": {},
     "output_type": "execute_result"
    }
   ],
   "source": [
    "data[\"target\"].unique()"
   ]
  },
  {
   "cell_type": "code",
   "execution_count": 323,
   "id": "fe5f8f40",
   "metadata": {},
   "outputs": [
    {
     "name": "stdout",
     "output_type": "stream",
     "text": [
      "<class 'pandas.core.frame.DataFrame'>\n",
      "RangeIndex: 48842 entries, 0 to 48841\n",
      "Data columns (total 15 columns):\n",
      " #   Column          Non-Null Count  Dtype \n",
      "---  ------          --------------  ----- \n",
      " 0   age             48842 non-null  int64 \n",
      " 1   workclass       47879 non-null  object\n",
      " 2   fnlwgt          48842 non-null  int64 \n",
      " 3   education       48842 non-null  object\n",
      " 4   education-num   48842 non-null  int64 \n",
      " 5   marital-status  48842 non-null  object\n",
      " 6   occupation      47876 non-null  object\n",
      " 7   relationship    48842 non-null  object\n",
      " 8   race            48842 non-null  object\n",
      " 9   sex             48842 non-null  object\n",
      " 10  capital-gain    48842 non-null  int64 \n",
      " 11  capital-loss    48842 non-null  int64 \n",
      " 12  hours-per-week  48842 non-null  int64 \n",
      " 13  native-country  48568 non-null  object\n",
      " 14  target          48842 non-null  object\n",
      "dtypes: int64(6), object(9)\n",
      "memory usage: 5.6+ MB\n"
     ]
    }
   ],
   "source": [
    "data.info()"
   ]
  },
  {
   "cell_type": "code",
   "execution_count": 324,
   "id": "a3901fec",
   "metadata": {},
   "outputs": [
    {
     "data": {
      "text/plain": [
       "(48842, 15)"
      ]
     },
     "execution_count": 324,
     "metadata": {},
     "output_type": "execute_result"
    }
   ],
   "source": [
    "data.shape"
   ]
  },
  {
   "cell_type": "code",
   "execution_count": 325,
   "id": "0c6a5a62",
   "metadata": {},
   "outputs": [
    {
     "data": {
      "text/plain": [
       "age                 0\n",
       "workclass         963\n",
       "fnlwgt              0\n",
       "education           0\n",
       "education-num       0\n",
       "marital-status      0\n",
       "occupation        966\n",
       "relationship        0\n",
       "race                0\n",
       "sex                 0\n",
       "capital-gain        0\n",
       "capital-loss        0\n",
       "hours-per-week      0\n",
       "native-country    274\n",
       "target              0\n",
       "dtype: int64"
      ]
     },
     "execution_count": 325,
     "metadata": {},
     "output_type": "execute_result"
    }
   ],
   "source": [
    "data.isna().sum()"
   ]
  },
  {
   "cell_type": "code",
   "execution_count": 326,
   "id": "6d8a20a3",
   "metadata": {},
   "outputs": [],
   "source": [
    "import pandas as pd\n",
    "pd.set_option('display.max_columns', None)"
   ]
  },
  {
   "cell_type": "code",
   "execution_count": 327,
   "id": "4b22421c",
   "metadata": {},
   "outputs": [
    {
     "name": "stdout",
     "output_type": "stream",
     "text": [
      "workclass ['State-gov' 'Self-emp-not-inc' 'Private' 'Federal-gov' 'Local-gov' '?'\n",
      " 'Self-emp-inc' 'Without-pay' 'Never-worked' nan]\n",
      "education ['Bachelors' 'HS-grad' '11th' 'Masters' '9th' 'Some-college' 'Assoc-acdm'\n",
      " 'Assoc-voc' '7th-8th' 'Doctorate' 'Prof-school' '5th-6th' '10th'\n",
      " '1st-4th' 'Preschool' '12th']\n",
      "marital-status ['Never-married' 'Married-civ-spouse' 'Divorced' 'Married-spouse-absent'\n",
      " 'Separated' 'Married-AF-spouse' 'Widowed']\n",
      "occupation ['Adm-clerical' 'Exec-managerial' 'Handlers-cleaners' 'Prof-specialty'\n",
      " 'Other-service' 'Sales' 'Craft-repair' 'Transport-moving'\n",
      " 'Farming-fishing' 'Machine-op-inspct' 'Tech-support' '?'\n",
      " 'Protective-serv' 'Armed-Forces' 'Priv-house-serv' nan]\n",
      "relationship ['Not-in-family' 'Husband' 'Wife' 'Own-child' 'Unmarried' 'Other-relative']\n",
      "race ['White' 'Black' 'Asian-Pac-Islander' 'Amer-Indian-Eskimo' 'Other']\n",
      "sex ['Male' 'Female']\n",
      "native-country ['United-States' 'Cuba' 'Jamaica' 'India' '?' 'Mexico' 'South'\n",
      " 'Puerto-Rico' 'Honduras' 'England' 'Canada' 'Germany' 'Iran'\n",
      " 'Philippines' 'Italy' 'Poland' 'Columbia' 'Cambodia' 'Thailand' 'Ecuador'\n",
      " 'Laos' 'Taiwan' 'Haiti' 'Portugal' 'Dominican-Republic' 'El-Salvador'\n",
      " 'France' 'Guatemala' 'China' 'Japan' 'Yugoslavia' 'Peru'\n",
      " 'Outlying-US(Guam-USVI-etc)' 'Scotland' 'Trinadad&Tobago' 'Greece'\n",
      " 'Nicaragua' 'Vietnam' 'Hong' 'Ireland' 'Hungary' 'Holand-Netherlands' nan]\n",
      "target ['<=50K' '>50K' '<=50K.' '>50K.']\n"
     ]
    }
   ],
   "source": [
    "for col in data.select_dtypes([\"object\"]).columns:\n",
    "    print(col,data[col].unique())"
   ]
  },
  {
   "cell_type": "code",
   "execution_count": 309,
   "id": "ac80a26b",
   "metadata": {},
   "outputs": [],
   "source": [
    "# clearly except for sex and target all are one hot encodings"
   ]
  },
  {
   "cell_type": "code",
   "execution_count": 328,
   "id": "cf8dee79",
   "metadata": {},
   "outputs": [],
   "source": [
    "data[\"target\"]=data[\"target\"].map({'<=50K':0,'<=50K.':0,'>50K':1,'>50K.':1})"
   ]
  },
  {
   "cell_type": "code",
   "execution_count": 329,
   "id": "2e7e400d",
   "metadata": {},
   "outputs": [
    {
     "data": {
      "text/plain": [
       "target\n",
       "0    37155\n",
       "1    11687\n",
       "Name: count, dtype: int64"
      ]
     },
     "execution_count": 329,
     "metadata": {},
     "output_type": "execute_result"
    }
   ],
   "source": [
    "data[\"target\"].value_counts()"
   ]
  },
  {
   "cell_type": "code",
   "execution_count": 313,
   "id": "5e3db880",
   "metadata": {},
   "outputs": [],
   "source": [
    "# our data is imabalanced this might be an issue, but let's proceed"
   ]
  },
  {
   "cell_type": "markdown",
   "id": "92d67e8d",
   "metadata": {},
   "source": [
    "Preprocessing"
   ]
  },
  {
   "cell_type": "code",
   "execution_count": 413,
   "id": "b5c83ef5",
   "metadata": {},
   "outputs": [],
   "source": [
    "from sklearn.model_selection import train_test_split\n",
    "xT,xt,yT,yt=train_test_split(data.drop(\"target\",axis=1),data[\"target\"],random_state=1,stratify=data[\"target\"],test_size=0.2)\n",
    "catcols=xT.select_dtypes([\"object\"]).columns.to_list()\n",
    "numcols=xT.select_dtypes([\"number\"]).columns.to_list()"
   ]
  },
  {
   "cell_type": "code",
   "execution_count": 414,
   "id": "bee74335",
   "metadata": {},
   "outputs": [],
   "source": [
    "def todataframe(transformeddata,newfeaturenames):\n",
    "    return pd.DataFrame(transformeddata, columns=newfeaturenames)"
   ]
  },
  {
   "cell_type": "code",
   "execution_count": 415,
   "id": "26976f47",
   "metadata": {},
   "outputs": [],
   "source": [
    "from sklearn.impute import SimpleImputer\n",
    "catimputer=SimpleImputer(strategy=\"constant\",fill_value=\"?\")\n",
    "numimputer=SimpleImputer(strategy=\"constant\",fill_value=-1)"
   ]
  },
  {
   "cell_type": "code",
   "execution_count": 416,
   "id": "89dd9f02",
   "metadata": {},
   "outputs": [],
   "source": [
    "from sklearn.preprocessing import OneHotEncoder\n",
    "onehot=OneHotEncoder(sparse_output=False, drop=None, handle_unknown='ignore')"
   ]
  },
  {
   "cell_type": "code",
   "execution_count": 417,
   "id": "db1652e2",
   "metadata": {},
   "outputs": [],
   "source": [
    "from sklearn.preprocessing import MinMaxScaler\n",
    "minmax=MinMaxScaler()"
   ]
  },
  {
   "cell_type": "code",
   "execution_count": 418,
   "id": "31e3fa9b",
   "metadata": {},
   "outputs": [],
   "source": [
    "from sklearn.compose import ColumnTransformer\n",
    "\n",
    "imputing = ColumnTransformer([\n",
    "    (\"cat_imputer\",catimputer,catcols),\n",
    "    (\"num_imputer\",numimputer,numcols)\n",
    "])\n",
    "\n",
    "preprocessing = ColumnTransformer([\n",
    "    (\"one_hot\",onehot,catcols),\n",
    "    (\"min_max\",minmax,numcols)\n",
    "])"
   ]
  },
  {
   "cell_type": "code",
   "execution_count": 419,
   "id": "bb58198a",
   "metadata": {},
   "outputs": [],
   "source": [
    "from sklearn.pipeline import Pipeline\n",
    "from sklearn.preprocessing import FunctionTransformer\n",
    "preprocessing_pipeline=Pipeline([\n",
    "    (\"step1\",imputing),\n",
    "    (\"fix_names_1\", FunctionTransformer(lambda x: todataframe(x,catcols+numcols))),\n",
    "    (\"step2\",preprocessing),\n",
    "    (\"fix_names_2\", FunctionTransformer(lambda x: todataframe(x,list(preprocessing.named_transformers_[\"one_hot\"].get_feature_names_out(catcols))+numcols)))\n",
    "])"
   ]
  },
  {
   "cell_type": "code",
   "execution_count": null,
   "id": "fd2bc4e3",
   "metadata": {},
   "outputs": [],
   "source": [
    "xT=preprocessing_pipeline.fit_transform(xT)\n",
    "xt=preprocessing_pipeline.transform(xt)"
   ]
  },
  {
   "cell_type": "markdown",
   "id": "3c36d0a8",
   "metadata": {},
   "source": [
    "Plain SVC"
   ]
  },
  {
   "cell_type": "code",
   "execution_count": null,
   "id": "c04c0a48",
   "metadata": {},
   "outputs": [
    {
     "name": "stdout",
     "output_type": "stream",
     "text": [
      "Accuracy: 0.8464530658204524\n",
      "              precision    recall  f1-score   support\n",
      "\n",
      "           0       0.87      0.94      0.90      7431\n",
      "           1       0.73      0.56      0.64      2338\n",
      "\n",
      "    accuracy                           0.85      9769\n",
      "   macro avg       0.80      0.75      0.77      9769\n",
      "weighted avg       0.84      0.85      0.84      9769\n",
      "\n"
     ]
    }
   ],
   "source": [
    "from sklearn.svm import SVC\n",
    "from sklearn.metrics import classification_report, accuracy_score\n",
    "svm_model = SVC(kernel='rbf', C=1.0, gamma='scale', random_state=1)\n",
    "svm_model.fit(xT, yT)\n",
    "yt_pred = svm_model.predict(xt)\n",
    "print(\"Accuracy:\", accuracy_score(yt, yt_pred))\n",
    "print(classification_report(yt, yt_pred))"
   ]
  },
  {
   "cell_type": "markdown",
   "id": "0ec7bc59",
   "metadata": {},
   "source": [
    "Class Weight Balanced SVC"
   ]
  },
  {
   "cell_type": "code",
   "execution_count": 424,
   "id": "54e6aecd",
   "metadata": {},
   "outputs": [
    {
     "name": "stdout",
     "output_type": "stream",
     "text": [
      "Accuracy: 0.7843177397891289\n",
      "              precision    recall  f1-score   support\n",
      "\n",
      "           0       0.95      0.76      0.84      7431\n",
      "           1       0.53      0.86      0.66      2338\n",
      "\n",
      "    accuracy                           0.78      9769\n",
      "   macro avg       0.74      0.81      0.75      9769\n",
      "weighted avg       0.85      0.78      0.80      9769\n",
      "\n"
     ]
    }
   ],
   "source": [
    "svm_model_balanced = SVC(kernel='rbf', C=1.0, gamma='scale', random_state=1, class_weight=\"balanced\")\n",
    "svm_model_balanced.fit(xT, yT)\n",
    "yt_pred = svm_model_balanced.predict(xt)\n",
    "print(\"Accuracy:\", accuracy_score(yt, yt_pred))\n",
    "print(classification_report(yt, yt_pred))"
   ]
  },
  {
   "cell_type": "markdown",
   "id": "6fd434c3",
   "metadata": {},
   "source": [
    "Under Sampling SVC"
   ]
  },
  {
   "cell_type": "code",
   "execution_count": null,
   "id": "7ea01a13",
   "metadata": {},
   "outputs": [
    {
     "name": "stdout",
     "output_type": "stream",
     "text": [
      "Accuracy: 0.7758214760978606\n",
      "              precision    recall  f1-score   support\n",
      "\n",
      "           0       0.95      0.75      0.84      7431\n",
      "           1       0.52      0.87      0.65      2338\n",
      "\n",
      "    accuracy                           0.78      9769\n",
      "   macro avg       0.73      0.81      0.74      9769\n",
      "weighted avg       0.84      0.78      0.79      9769\n",
      "\n"
     ]
    }
   ],
   "source": [
    "train_df = pd.DataFrame(xT)\n",
    "train_df[\"target\"] = yT.values if hasattr(yT, 'values') else yT\n",
    "class_counts = train_df[\"target\"].value_counts()\n",
    "minority_class = class_counts.idxmin()\n",
    "majority_class = class_counts.idxmax()\n",
    "minority_df = train_df[train_df[\"target\"] == minority_class]\n",
    "majority_df = train_df[train_df[\"target\"] == majority_class].sample(n=len(minority_df), random_state=42)\n",
    "balanced_df = pd.concat([minority_df, majority_df]).sample(frac=1, random_state=42)\n",
    "\n",
    "xT_balanced = balanced_df.drop(\"target\", axis=1)\n",
    "yT_balanced = balanced_df[\"target\"]\n",
    "\n",
    "svm_model = SVC(kernel='rbf', C=1.0, gamma='scale', random_state=1)\n",
    "svm_model.fit(xT_balanced, yT_balanced)\n",
    "yt_pred = svm_model.predict(xt)\n",
    "print(\"Accuracy:\", accuracy_score(yt, yt_pred))\n",
    "print(classification_report(yt, yt_pred))"
   ]
  },
  {
   "cell_type": "markdown",
   "id": "b058470a",
   "metadata": {},
   "source": [
    "Plain SVC with Grid Search"
   ]
  },
  {
   "cell_type": "code",
   "execution_count": 427,
   "id": "dacadefc",
   "metadata": {},
   "outputs": [
    {
     "name": "stdout",
     "output_type": "stream",
     "text": [
      "Fitting 5 folds for each of 18 candidates, totalling 90 fits\n",
      "Accuracy: 0.8555635172484389\n",
      "              precision    recall  f1-score   support\n",
      "\n",
      "           0       0.88      0.94      0.91      7431\n",
      "           1       0.76      0.58      0.66      2338\n",
      "\n",
      "    accuracy                           0.86      9769\n",
      "   macro avg       0.82      0.76      0.78      9769\n",
      "weighted avg       0.85      0.86      0.85      9769\n",
      "\n"
     ]
    }
   ],
   "source": [
    "from sklearn.model_selection import GridSearchCV\n",
    "param_grid = {\n",
    "    'C': [0.1, 1, 10],\n",
    "    'gamma': ['scale', 0.01, 0.001],\n",
    "    'kernel': ['rbf', 'linear']\n",
    "}\n",
    "svm = SVC()\n",
    "\n",
    "grid_search = GridSearchCV(\n",
    "    estimator=svm,\n",
    "    param_grid=param_grid,\n",
    "    scoring='f1',   # or 'f1', 'roc_auc', etc.\n",
    "    cv=5,                 # 5-fold cross-validation\n",
    "    verbose=1,\n",
    "    n_jobs=-1             # Use all CPU cores\n",
    ")\n",
    "grid_search.fit(xT, yT)\n",
    "best_model = grid_search.best_estimator_\n",
    "yt_pred = best_model.predict(xt)\n",
    "print(\"Accuracy:\", accuracy_score(yt, yt_pred))\n",
    "print(classification_report(yt, yt_pred))"
   ]
  },
  {
   "cell_type": "code",
   "execution_count": null,
   "id": "20cad74c",
   "metadata": {},
   "outputs": [],
   "source": [
    "SVM Tutorial Done "
   ]
  }
 ],
 "metadata": {
  "kernelspec": {
   "display_name": "Python 3",
   "language": "python",
   "name": "python3"
  },
  "language_info": {
   "codemirror_mode": {
    "name": "ipython",
    "version": 3
   },
   "file_extension": ".py",
   "mimetype": "text/x-python",
   "name": "python",
   "nbconvert_exporter": "python",
   "pygments_lexer": "ipython3",
   "version": "3.13.3"
  }
 },
 "nbformat": 4,
 "nbformat_minor": 5
}

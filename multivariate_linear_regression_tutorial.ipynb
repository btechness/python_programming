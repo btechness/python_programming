{
 "cells": [
  {
   "cell_type": "markdown",
   "metadata": {},
   "source": [
    "Scikit Learn Multivariate Linear Regression Tutorial"
   ]
  },
  {
   "cell_type": "code",
   "execution_count": 40,
   "metadata": {},
   "outputs": [],
   "source": [
    "from sklearn.datasets import load_linnerud\n",
    "from sklearn.linear_model import LinearRegression,RidgeCV,LassoCV,Ridge\n",
    "from sklearn.multioutput import MultiOutputRegressor\n",
    "from sklearn.model_selection import train_test_split, GridSearchCV, RandomizedSearchCV\n",
    "from sklearn.preprocessing import MinMaxScaler,PolynomialFeatures,PowerTransformer\n",
    "from sklearn.feature_selection import RFE\n",
    "from sklearn.metrics import mean_squared_error\n",
    "from scipy.stats import boxcox\n",
    "import pandas as pd\n",
    "import numpy as np"
   ]
  },
  {
   "cell_type": "code",
   "execution_count": 15,
   "metadata": {},
   "outputs": [],
   "source": [
    "data = load_linnerud()\n",
    "X = pd.DataFrame(data.data, columns=data.feature_names)\n",
    "Y = pd.DataFrame(data.target, columns=data.target_names)"
   ]
  },
  {
   "cell_type": "code",
   "execution_count": 16,
   "metadata": {},
   "outputs": [
    {
     "name": "stdout",
     "output_type": "stream",
     "text": [
      "RMSE for each target variable:\n",
      "Weight: 26.58\n",
      "Waist: 1.36\n",
      "Pulse: 4.69\n",
      "32.62987471814229\n"
     ]
    }
   ],
   "source": [
    "X_train, X_test, Y_train, Y_test = train_test_split(X, Y, test_size=0.2, random_state=1)\n",
    "scaler=MinMaxScaler()\n",
    "X_train=scaler.fit_transform(X_train)\n",
    "X_test=scaler.transform(X_test)\n",
    "model = LinearRegression()\n",
    "model.fit(X_train, Y_train)\n",
    "Y_pred = model.predict(X_test)\n",
    "def rmse(y_true, y_pred):\n",
    "    return np.sqrt(mean_squared_error(y_true, y_pred))\n",
    "rmse_values = {col: rmse(Y_test[col], Y_pred[:, i]) for i, col in enumerate(Y_test.columns)}\n",
    "print(\"RMSE for each target variable:\")\n",
    "tot=[]\n",
    "for target, error in rmse_values.items():\n",
    "    print(f\"{target}: {error:.2f}\")\n",
    "    tot.append(error)\n",
    "print(sum(tot))"
   ]
  },
  {
   "cell_type": "code",
   "execution_count": 17,
   "metadata": {},
   "outputs": [
    {
     "name": "stdout",
     "output_type": "stream",
     "text": [
      "RMSE for each target variable:\n",
      "Weight: 19.32\n",
      "Waist: 1.03\n",
      "Pulse: 4.57\n",
      "24.908912258922772\n"
     ]
    }
   ],
   "source": [
    "X_train, X_test, Y_train, Y_test = train_test_split(X, Y, test_size=0.2, random_state=1)\n",
    "scaler=MinMaxScaler()\n",
    "X_train=scaler.fit_transform(X_train)\n",
    "X_test=scaler.transform(X_test)\n",
    "model = RidgeCV()\n",
    "model.fit(X_train, Y_train)\n",
    "Y_pred = model.predict(X_test)\n",
    "def rmse(y_true, y_pred):\n",
    "    return np.sqrt(mean_squared_error(y_true, y_pred))\n",
    "rmse_values = {col: rmse(Y_test[col], Y_pred[:, i]) for i, col in enumerate(Y_test.columns)}\n",
    "print(\"RMSE for each target variable:\")\n",
    "tot=[]\n",
    "for target, error in rmse_values.items():\n",
    "    print(f\"{target}: {error:.2f}\")\n",
    "    tot.append(error)\n",
    "print(sum(tot))"
   ]
  },
  {
   "cell_type": "code",
   "execution_count": 18,
   "metadata": {},
   "outputs": [
    {
     "name": "stdout",
     "output_type": "stream",
     "text": [
      "RMSE for each target variable:\n",
      "Weight: 22.08\n",
      "Waist: 1.49\n",
      "Pulse: 4.39\n",
      "27.967361338811568\n"
     ]
    }
   ],
   "source": [
    "X_train, X_test, Y_train, Y_test = train_test_split(X, Y, test_size=0.2, random_state=1)\n",
    "scaler=MinMaxScaler()\n",
    "X_train=scaler.fit_transform(X_train)\n",
    "X_test=scaler.transform(X_test)\n",
    "model = MultiOutputRegressor(LassoCV())\n",
    "model.fit(X_train, Y_train)\n",
    "Y_pred = model.predict(X_test)\n",
    "def rmse(y_true, y_pred):\n",
    "    return np.sqrt(mean_squared_error(y_true, y_pred))\n",
    "rmse_values = {col: rmse(Y_test[col], Y_pred[:, i]) for i, col in enumerate(Y_test.columns)}\n",
    "print(\"RMSE for each target variable:\")\n",
    "tot=[]\n",
    "for target, error in rmse_values.items():\n",
    "    print(f\"{target}: {error:.2f}\")\n",
    "    tot.append(error)\n",
    "print(sum(tot))"
   ]
  },
  {
   "cell_type": "code",
   "execution_count": 19,
   "metadata": {},
   "outputs": [
    {
     "name": "stdout",
     "output_type": "stream",
     "text": [
      "RMSE for each target variable:\n",
      "Weight: 26.21\n",
      "Waist: 1.61\n",
      "Pulse: 8.25\n",
      "36.07327537177661\n",
      "RMSE for each target variable:\n",
      "Weight: 28.37\n",
      "Waist: 1.89\n",
      "Pulse: 5.11\n",
      "35.36246862307279\n",
      "RMSE for each target variable:\n",
      "Weight: 22.22\n",
      "Waist: 1.06\n",
      "Pulse: 4.84\n",
      "28.121778656674888\n"
     ]
    }
   ],
   "source": [
    "for i in range(0,3):\n",
    "    X_=X\n",
    "    poly=PolynomialFeatures(degree=2)\n",
    "    x=poly.fit_transform(X.iloc[:,i].values.reshape(-1, 1))\n",
    "    x=pd.DataFrame(x,columns=[\"x1\",\"x2\",\"x3\"])\n",
    "    X_[\"x3\"]=x[\"x3\"]\n",
    "    X_train, X_test, Y_train, Y_test = train_test_split(X_, Y, test_size=0.2, random_state=1)\n",
    "    scaler=MinMaxScaler()\n",
    "    X_train=scaler.fit_transform(X_train)\n",
    "    X_test=scaler.transform(X_test)\n",
    "    model = LinearRegression()\n",
    "    model.fit(X_train, Y_train)\n",
    "    Y_pred = model.predict(X_test)\n",
    "    def rmse(y_true, y_pred):\n",
    "        return np.sqrt(mean_squared_error(y_true, y_pred))\n",
    "    rmse_values = {col: rmse(Y_test[col], Y_pred[:, i]) for i, col in enumerate(Y_test.columns)}\n",
    "    print(\"RMSE for each target variable:\")\n",
    "    tot=[]\n",
    "    for target, error in rmse_values.items():\n",
    "        print(f\"{target}: {error:.2f}\")\n",
    "        tot.append(error)\n",
    "    print(sum(tot))"
   ]
  },
  {
   "cell_type": "code",
   "execution_count": null,
   "metadata": {},
   "outputs": [],
   "source": [
    "# great improvement in Linear Regression with Jumps as polynomial feature 2"
   ]
  },
  {
   "cell_type": "code",
   "execution_count": 20,
   "metadata": {},
   "outputs": [],
   "source": [
    "X = pd.DataFrame(data.data, columns=data.feature_names)\n",
    "Y = pd.DataFrame(data.target, columns=data.target_names)"
   ]
  },
  {
   "cell_type": "code",
   "execution_count": 21,
   "metadata": {},
   "outputs": [
    {
     "name": "stdout",
     "output_type": "stream",
     "text": [
      "RMSE for each target variable:\n",
      "Weight: 18.88\n",
      "Waist: 0.94\n",
      "Pulse: 4.52\n",
      "24.33376216034063\n",
      "RMSE for each target variable:\n",
      "Weight: 20.24\n",
      "Waist: 1.12\n",
      "Pulse: 4.40\n",
      "25.75542335264913\n",
      "RMSE for each target variable:\n",
      "Weight: 19.35\n",
      "Waist: 1.02\n",
      "Pulse: 4.42\n",
      "24.790015570795433\n"
     ]
    }
   ],
   "source": [
    "for i in range(0,3):\n",
    "    X_=X\n",
    "    poly=PolynomialFeatures(degree=2)\n",
    "    x=poly.fit_transform(X.iloc[:,i].values.reshape(-1, 1))\n",
    "    x=pd.DataFrame(x,columns=[\"x1\",\"x2\",\"x3\"])\n",
    "    X_[\"x3\"]=x[\"x3\"]\n",
    "    X_train, X_test, Y_train, Y_test = train_test_split(X_, Y, test_size=0.2, random_state=1)\n",
    "    scaler=MinMaxScaler()\n",
    "    X_train=scaler.fit_transform(X_train)\n",
    "    X_test=scaler.transform(X_test)\n",
    "    model = MultiOutputRegressor(RidgeCV())\n",
    "    model.fit(X_train, Y_train)\n",
    "    Y_pred = model.predict(X_test)\n",
    "    def rmse(y_true, y_pred):\n",
    "        return np.sqrt(mean_squared_error(y_true, y_pred))\n",
    "    rmse_values = {col: rmse(Y_test[col], Y_pred[:, i]) for i, col in enumerate(Y_test.columns)}\n",
    "    print(\"RMSE for each target variable:\")\n",
    "    tot=[]\n",
    "    for target, error in rmse_values.items():\n",
    "        print(f\"{target}: {error:.2f}\")\n",
    "        tot.append(error)\n",
    "    print(sum(tot))"
   ]
  },
  {
   "cell_type": "code",
   "execution_count": 22,
   "metadata": {},
   "outputs": [],
   "source": [
    "# slight improvements in ridge"
   ]
  },
  {
   "cell_type": "markdown",
   "metadata": {},
   "source": [
    "Removing Skewness"
   ]
  },
  {
   "cell_type": "code",
   "execution_count": 23,
   "metadata": {},
   "outputs": [],
   "source": [
    "X_=X\n",
    "poly=PolynomialFeatures(degree=2)\n",
    "x=poly.fit_transform(X.iloc[:,0].values.reshape(-1, 1))\n",
    "x=pd.DataFrame(x,columns=[\"x1\",\"x2\",\"x3\"])\n",
    "X_[\"x3\"]=x[\"x3\"]"
   ]
  },
  {
   "cell_type": "code",
   "execution_count": 24,
   "metadata": {},
   "outputs": [
    {
     "name": "stdout",
     "output_type": "stream",
     "text": [
      "Before:  -0.1930287523681326\n",
      "After:  -0.1930287523681326\n",
      "Before:  0.22364277444628067\n",
      "After:  0.22364277444628067\n",
      "Before:  2.479910422329863\n",
      "After:  0.09730544108072037\n",
      "Before:  0.358199984788177\n",
      "After:  0.358199984788177\n"
     ]
    }
   ],
   "source": [
    "for i in X_.columns:\n",
    "    j=X_[i].skew()\n",
    "    print(\"Before: \",j)\n",
    "    ap=[(X_[i],\"same\")]\n",
    "    if (X_[i] <= 0).any():\n",
    "        X_[i] = X_[i] + abs(X_[i].min())+1\n",
    "    if j<=-0.5:\n",
    "        l=1/(X_[i]+1)\n",
    "        s=np.sqrt(X_[i].max()+1-X_[i])\n",
    "        b,_=boxcox(X_[i])\n",
    "        b=pd.Series(data=b,name=i)\n",
    "        ap=sorted([(l,\"inverse\"),(s,\"sqrt\"),(b,\"box\"), ap[0]], key=lambda x:abs(x[0].skew()))\n",
    "    elif j>=0.5:\n",
    "        l=np.log(X_[i]+1)\n",
    "        s=np.sqrt(X_[i])            \n",
    "        b,_=boxcox(X_[i]+1)\n",
    "        b=pd.Series(data=b,name=i)\n",
    "        y=PowerTransformer(method=\"yeo-johnson\").fit_transform(np.array(X_[i]).reshape(-1,1))\n",
    "        y=pd.Series(data=y.ravel(),name=i)\n",
    "        ap=sorted([(l,\"log\"),(s,\"sqrt\"),(b,\"box\"),(y,\"yeo\"), ap[0]], key=lambda x:abs(x[0].skew()))\n",
    "    X_[i]=ap[0][0]\n",
    "    print(\"After: \",X_[i].skew())"
   ]
  },
  {
   "cell_type": "code",
   "execution_count": 25,
   "metadata": {},
   "outputs": [
    {
     "name": "stdout",
     "output_type": "stream",
     "text": [
      "RMSE for each target variable:\n",
      "Weight: 18.17\n",
      "Waist: 1.04\n",
      "Pulse: 5.06\n",
      "24.266396723502698\n"
     ]
    }
   ],
   "source": [
    "X_train, X_test, Y_train, Y_test = train_test_split(X_, Y, test_size=0.2, random_state=1)\n",
    "scaler=MinMaxScaler()\n",
    "X_train=scaler.fit_transform(X_train)\n",
    "X_test=scaler.transform(X_test)\n",
    "model = RidgeCV()\n",
    "model.fit(X_train, Y_train)\n",
    "Y_pred = model.predict(X_test)\n",
    "def rmse(y_true, y_pred):\n",
    "    return np.sqrt(mean_squared_error(y_true, y_pred))\n",
    "rmse_values = {col: rmse(Y_test[col], Y_pred[:, i]) for i, col in enumerate(Y_test.columns)}\n",
    "print(\"RMSE for each target variable:\")\n",
    "tot=[]\n",
    "for target, error in rmse_values.items():\n",
    "    print(f\"{target}: {error:.2f}\")\n",
    "    tot.append(error)\n",
    "print(sum(tot))"
   ]
  },
  {
   "cell_type": "code",
   "execution_count": null,
   "metadata": {},
   "outputs": [],
   "source": [
    "# 24.33376216034063 to 24.266396723502698"
   ]
  },
  {
   "cell_type": "code",
   "execution_count": 30,
   "metadata": {},
   "outputs": [
    {
     "name": "stdout",
     "output_type": "stream",
     "text": [
      "RMSE for each target variable:\n",
      "Weight: 18.42\n",
      "Waist: 1.58\n",
      "Pulse: 4.46\n",
      "24.449813824465807\n"
     ]
    }
   ],
   "source": [
    "ridge = RidgeCV()\n",
    "rfe = RFE(ridge, n_features_to_select=2)\n",
    "X_selected=rfe.fit_transform(X_, Y)\n",
    "X_train, X_test, Y_train, Y_test = train_test_split(X_selected, Y, test_size=0.2, random_state=1)\n",
    "scaler=MinMaxScaler()\n",
    "X_train=scaler.fit_transform(X_train)\n",
    "X_test=scaler.transform(X_test)\n",
    "model = RidgeCV()\n",
    "model.fit(X_train, Y_train)\n",
    "Y_pred = model.predict(X_test)\n",
    "def rmse(y_true, y_pred):\n",
    "    return np.sqrt(mean_squared_error(y_true, y_pred))\n",
    "rmse_values = {col: rmse(Y_test[col], Y_pred[:, i]) for i, col in enumerate(Y_test.columns)}\n",
    "print(\"RMSE for each target variable:\")\n",
    "tot=[]\n",
    "for target, error in rmse_values.items():\n",
    "    print(f\"{target}: {error:.2f}\")\n",
    "    tot.append(error)\n",
    "print(sum(tot))"
   ]
  },
  {
   "cell_type": "code",
   "execution_count": 31,
   "metadata": {},
   "outputs": [
    {
     "data": {
      "text/html": [
       "<div>\n",
       "<style scoped>\n",
       "    .dataframe tbody tr th:only-of-type {\n",
       "        vertical-align: middle;\n",
       "    }\n",
       "\n",
       "    .dataframe tbody tr th {\n",
       "        vertical-align: top;\n",
       "    }\n",
       "\n",
       "    .dataframe thead th {\n",
       "        text-align: right;\n",
       "    }\n",
       "</style>\n",
       "<table border=\"1\" class=\"dataframe\">\n",
       "  <thead>\n",
       "    <tr style=\"text-align: right;\">\n",
       "      <th></th>\n",
       "      <th>Chins</th>\n",
       "      <th>Situps</th>\n",
       "      <th>Jumps</th>\n",
       "      <th>x3</th>\n",
       "    </tr>\n",
       "  </thead>\n",
       "  <tbody>\n",
       "    <tr>\n",
       "      <th>0</th>\n",
       "      <td>5.0</td>\n",
       "      <td>162.0</td>\n",
       "      <td>0.200677</td>\n",
       "      <td>25.0</td>\n",
       "    </tr>\n",
       "    <tr>\n",
       "      <th>1</th>\n",
       "      <td>2.0</td>\n",
       "      <td>110.0</td>\n",
       "      <td>0.200677</td>\n",
       "      <td>4.0</td>\n",
       "    </tr>\n",
       "    <tr>\n",
       "      <th>2</th>\n",
       "      <td>12.0</td>\n",
       "      <td>101.0</td>\n",
       "      <td>1.055190</td>\n",
       "      <td>144.0</td>\n",
       "    </tr>\n",
       "    <tr>\n",
       "      <th>3</th>\n",
       "      <td>12.0</td>\n",
       "      <td>105.0</td>\n",
       "      <td>-0.879109</td>\n",
       "      <td>144.0</td>\n",
       "    </tr>\n",
       "    <tr>\n",
       "      <th>4</th>\n",
       "      <td>13.0</td>\n",
       "      <td>155.0</td>\n",
       "      <td>0.134904</td>\n",
       "      <td>169.0</td>\n",
       "    </tr>\n",
       "  </tbody>\n",
       "</table>\n",
       "</div>"
      ],
      "text/plain": [
       "   Chins  Situps     Jumps     x3\n",
       "0    5.0   162.0  0.200677   25.0\n",
       "1    2.0   110.0  0.200677    4.0\n",
       "2   12.0   101.0  1.055190  144.0\n",
       "3   12.0   105.0 -0.879109  144.0\n",
       "4   13.0   155.0  0.134904  169.0"
      ]
     },
     "execution_count": 31,
     "metadata": {},
     "output_type": "execute_result"
    }
   ],
   "source": [
    "X_.head()"
   ]
  },
  {
   "cell_type": "code",
   "execution_count": 32,
   "metadata": {},
   "outputs": [
    {
     "name": "stdout",
     "output_type": "stream",
     "text": [
      "RMSE for each target variable:\n",
      "Weight: 18.28\n",
      "Waist: 1.27\n",
      "Pulse: 4.54\n",
      "24.08577326810647\n"
     ]
    }
   ],
   "source": [
    "X_2=X_\n",
    "X_2[\"situp_chinup_interaction\"] = X_2[\"Situps\"] * X_2[\"Chins\"]\n",
    "X_train, X_test, Y_train, Y_test = train_test_split(X_2, Y, test_size=0.2, random_state=1)\n",
    "scaler=MinMaxScaler()\n",
    "X_train=scaler.fit_transform(X_train)\n",
    "X_test=scaler.transform(X_test)\n",
    "model = MultiOutputRegressor(RidgeCV())\n",
    "model.fit(X_train, Y_train)\n",
    "Y_pred = model.predict(X_test)\n",
    "def rmse(y_true, y_pred):\n",
    "    return np.sqrt(mean_squared_error(y_true, y_pred))\n",
    "rmse_values = {col: rmse(Y_test[col], Y_pred[:, i]) for i, col in enumerate(Y_test.columns)}\n",
    "print(\"RMSE for each target variable:\")\n",
    "tot=[]\n",
    "for target, error in rmse_values.items():\n",
    "    print(f\"{target}: {error:.2f}\")\n",
    "    tot.append(error)\n",
    "print(sum(tot))"
   ]
  },
  {
   "cell_type": "code",
   "execution_count": 33,
   "metadata": {},
   "outputs": [],
   "source": [
    "# 24.266396723502698 to 24.08577326810647"
   ]
  },
  {
   "cell_type": "code",
   "execution_count": 36,
   "metadata": {},
   "outputs": [],
   "source": [
    "best_alphas = [est.alpha_ for est in model.estimators_]\n",
    "optimal_alpha = sum(best_alphas) / len(best_alphas)"
   ]
  },
  {
   "cell_type": "code",
   "execution_count": null,
   "metadata": {},
   "outputs": [
    {
     "name": "stdout",
     "output_type": "stream",
     "text": [
      "{'alpha': 3.6999999999999997, 'solver': 'lsqr'}\n",
      "RMSE for each target variable:\n",
      "Weight: 17.92\n",
      "Waist: 1.08\n",
      "Pulse: 4.69\n",
      "23.686103451238438\n"
     ]
    }
   ],
   "source": [
    "solvers = [\"svd\", \"cholesky\", \"lsqr\", \"sparse_cg\",\"auto\"]  # Available solvers for Ridge\n",
    "param_grid = {\"solver\": solvers,\"alpha\": [0.0001,0.001,0.01,0.1, 1.0, 10.0,100.0,optimal_alpha]}\n",
    "ridge_grid = GridSearchCV(Ridge(), param_grid, scoring=\"neg_mean_squared_error\", cv=5)\n",
    "ridge_grid.fit(X_train, Y_train)\n",
    "print(ridge_grid.best_params_)\n",
    "Y_pred=ridge_grid.predict(X_test)\n",
    "def rmse(y_true, y_pred):\n",
    "    return np.sqrt(mean_squared_error(y_true, y_pred))\n",
    "rmse_values = {col: rmse(Y_test[col], Y_pred[:, i]) for i, col in enumerate(Y_test.columns)}\n",
    "print(\"RMSE for each target variable:\")\n",
    "tot=[]\n",
    "for target, error in rmse_values.items():\n",
    "    print(f\"{target}: {error:.2f}\")\n",
    "    tot.append(error)\n",
    "print(sum(tot))"
   ]
  },
  {
   "cell_type": "code",
   "execution_count": null,
   "metadata": {},
   "outputs": [],
   "source": [
    "# 24.08577326810647 to 23.686103451238438"
   ]
  },
  {
   "cell_type": "code",
   "execution_count": 45,
   "metadata": {},
   "outputs": [
    {
     "name": "stdout",
     "output_type": "stream",
     "text": [
      "{'solver': 'auto', 'alpha': 2.5000000000000004}\n",
      "RMSE for each target variable:\n",
      "Weight: 17.97\n",
      "Waist: 1.03\n",
      "Pulse: 4.77\n",
      "23.769424832996506\n"
     ]
    }
   ],
   "source": [
    "solvers = [\"svd\", \"cholesky\", \"lsqr\", \"sparse_cg\",\"auto\"]  # Available solvers for Ridge\n",
    "alphas=np.arange(2,6,0.1)\n",
    "param_grid = {\"solver\": solvers,\"alpha\": alphas}\n",
    "ridge_grid = RandomizedSearchCV(Ridge(), param_grid, scoring=\"neg_mean_squared_error\", cv=5)\n",
    "ridge_grid.fit(X_train, Y_train)\n",
    "print(ridge_grid.best_params_)\n",
    "Y_pred=ridge_grid.predict(X_test)\n",
    "def rmse(y_true, y_pred):\n",
    "    return np.sqrt(mean_squared_error(y_true, y_pred))\n",
    "rmse_values = {col: rmse(Y_test[col], Y_pred[:, i]) for i, col in enumerate(Y_test.columns)}\n",
    "print(\"RMSE for each target variable:\")\n",
    "tot=[]\n",
    "for target, error in rmse_values.items():\n",
    "    print(f\"{target}: {error:.2f}\")\n",
    "    tot.append(error)\n",
    "print(sum(tot))"
   ]
  },
  {
   "cell_type": "code",
   "execution_count": null,
   "metadata": {},
   "outputs": [],
   "source": [
    "# 23.686103451238438 to 23.769424832996506"
   ]
  }
 ],
 "metadata": {
  "kernelspec": {
   "display_name": "Python 3",
   "language": "python",
   "name": "python3"
  },
  "language_info": {
   "codemirror_mode": {
    "name": "ipython",
    "version": 3
   },
   "file_extension": ".py",
   "mimetype": "text/x-python",
   "name": "python",
   "nbconvert_exporter": "python",
   "pygments_lexer": "ipython3",
   "version": "3.11.9"
  }
 },
 "nbformat": 4,
 "nbformat_minor": 2
}

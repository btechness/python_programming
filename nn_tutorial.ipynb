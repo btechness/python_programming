{
 "cells": [
  {
   "cell_type": "code",
   "execution_count": 1,
   "metadata": {},
   "outputs": [],
   "source": [
    "from tensorflow import keras\n",
    "import numpy as np\n",
    "import tensorflow as tf\n",
    "from tensorflow.keras import mixed_precision\n",
    "import pandas as pd"
   ]
  },
  {
   "cell_type": "code",
   "execution_count": 14,
   "metadata": {},
   "outputs": [],
   "source": [
    "policy = mixed_precision.Policy('mixed_float16')\n",
    "mixed_precision.set_global_policy('mixed_float16')"
   ]
  },
  {
   "cell_type": "code",
   "execution_count": 3,
   "metadata": {},
   "outputs": [],
   "source": [
    "a=tf.constant(np.random.uniform(10,40,100000),dtype=tf.float16)\n",
    "b=tf.constant(np.random.uniform(40,60,100000),dtype=tf.float16)\n",
    "c=tf.constant(np.random.uniform(5,10,100000),dtype=tf.float16)"
   ]
  },
  {
   "cell_type": "code",
   "execution_count": 4,
   "metadata": {},
   "outputs": [],
   "source": [
    "data=tf.data.Dataset.from_tensor_slices((tf.stack([a, b], axis=1), c))\n",
    "sr=0.8\n",
    "data=data.shuffle(len(a))\n",
    "data_size=len(a)\n",
    "train_size=int(data_size*sr)\n",
    "train=data.take(train_size)\n",
    "test=data.skip(train_size)\n",
    "bs=64\n",
    "train=train.batch(bs).prefetch(tf.data.AUTOTUNE)\n",
    "test=test.batch(bs).prefetch(tf.data.AUTOTUNE)"
   ]
  },
  {
   "cell_type": "code",
   "execution_count": 17,
   "metadata": {},
   "outputs": [],
   "source": [
    "## feedforward model\n",
    "model=keras.Sequential(\n",
    "    [\n",
    "        keras.layers.Dense(128,activation='relu', input_shape=(2,),kernel_regularizer=tf.keras.regularizers.l2(0.001)),\n",
    "        keras.layers.Dense(1)\n",
    "    ]\n",
    ")\n",
    "optimizer = tf.keras.optimizers.Adam(learning_rate=0.0005) "
   ]
  },
  {
   "cell_type": "code",
   "execution_count": null,
   "metadata": {},
   "outputs": [
    {
     "name": "stdout",
     "output_type": "stream",
     "text": [
      "Epoch 1/10\n",
      "1250/1250 [==============================] - 7s 5ms/step - loss: 2.4024 - val_loss: 2.2098\n",
      "Epoch 2/10\n",
      "1250/1250 [==============================] - 6s 5ms/step - loss: 2.2206 - val_loss: 2.1530\n",
      "Epoch 3/10\n",
      "1250/1250 [==============================] - 6s 5ms/step - loss: 2.1736 - val_loss: 2.2043\n",
      "Epoch 4/10\n",
      "1250/1250 [==============================] - 11s 8ms/step - loss: 2.1652 - val_loss: 2.0782\n",
      "Epoch 5/10\n",
      "1250/1250 [==============================] - 8s 6ms/step - loss: 2.1549 - val_loss: 2.1052\n",
      "Epoch 6/10\n",
      "1250/1250 [==============================] - 27s 21ms/step - loss: 2.1700 - val_loss: 2.0999\n",
      "Epoch 7/10\n",
      "1250/1250 [==============================] - 18s 14ms/step - loss: 2.1581 - val_loss: 2.2136\n",
      "Epoch 8/10\n",
      "1250/1250 [==============================] - 11s 9ms/step - loss: 2.1538 - val_loss: 2.1059\n",
      "Epoch 9/10\n",
      "1250/1250 [==============================] - 29s 23ms/step - loss: 2.1639 - val_loss: 2.0995\n",
      "Epoch 10/10\n",
      "1250/1250 [==============================] - 28s 22ms/step - loss: 2.1422 - val_loss: 2.1313\n"
     ]
    },
    {
     "data": {
      "text/plain": [
       "<keras.callbacks.History at 0x1bcc4cda290>"
      ]
     },
     "execution_count": 19,
     "metadata": {},
     "output_type": "execute_result"
    }
   ],
   "source": [
    "model.compile(optimizer=optimizer,loss='mse')\n",
    "model.fit(train,epochs=10,validation_data=test,verbose=1)"
   ]
  },
  {
   "cell_type": "code",
   "execution_count": null,
   "metadata": {},
   "outputs": [
    {
     "name": "stdout",
     "output_type": "stream",
     "text": [
      "Epoch 1/10\n",
      "1250/1250 [==============================] - 30s 22ms/step - loss: 2.1600 - val_loss: 2.1459\n",
      "Epoch 2/10\n",
      "1250/1250 [==============================] - 26s 20ms/step - loss: 2.1459 - val_loss: 2.2392\n",
      "Epoch 3/10\n",
      "1250/1250 [==============================] - 14s 10ms/step - loss: 2.1432 - val_loss: 2.1201\n",
      "Epoch 4/10\n",
      "1250/1250 [==============================] - 16s 13ms/step - loss: 2.1370 - val_loss: 2.2086\n",
      "Epoch 5/10\n",
      "1250/1250 [==============================] - 17s 13ms/step - loss: 2.1335 - val_loss: 2.1133\n",
      "Epoch 6/10\n",
      "1250/1250 [==============================] - 17s 14ms/step - loss: 2.1380 - val_loss: 2.0954\n",
      "Epoch 7/10\n",
      "1250/1250 [==============================] - 17s 14ms/step - loss: 2.1286 - val_loss: 2.1036\n",
      "Epoch 8/10\n",
      "1250/1250 [==============================] - 16s 13ms/step - loss: 2.1368 - val_loss: 2.1080\n",
      "Epoch 9/10\n",
      "1250/1250 [==============================] - 16s 12ms/step - loss: 2.1416 - val_loss: 2.1442\n"
     ]
    },
    {
     "data": {
      "text/plain": [
       "<keras.callbacks.History at 0x1bcd03ee890>"
      ]
     },
     "execution_count": 20,
     "metadata": {},
     "output_type": "execute_result"
    }
   ],
   "source": [
    "model=keras.Sequential(\n",
    "    [\n",
    "        keras.layers.Dense(128,activation='relu', input_shape=(2,),kernel_regularizer=tf.keras.regularizers.l2(0.001)),\n",
    "        keras.layers.Dense(1)\n",
    "    ]\n",
    ")\n",
    "optimizer = tf.keras.optimizers.Adam(learning_rate=0.0005) \n",
    "early_stop=tf.keras.callbacks.EarlyStopping(monitor='val_loss', patience=3, restore_best_weights=True)\n",
    "model.compile(optimizer=optimizer,loss='mse')\n",
    "model.fit(train, validation_data=test, epochs=10, callbacks=[early_stop], verbose=1)"
   ]
  },
  {
   "cell_type": "code",
   "execution_count": 9,
   "metadata": {},
   "outputs": [],
   "source": [
    "data = pd.DataFrame({\"a\": a, \"b\": b, \"c\": c})\n",
    "x=data[[\"a\",\"b\"]].values\n",
    "y=data[\"c\"].values"
   ]
  },
  {
   "cell_type": "code",
   "execution_count": 15,
   "metadata": {},
   "outputs": [],
   "source": [
    "data=tf.data.Dataset.from_tensor_slices((x,y))\n",
    "sr=0.8\n",
    "data=data.shuffle(len(a))\n",
    "data_size=len(a)\n",
    "train_size=int(data_size*sr)\n",
    "train=data.take(train_size)\n",
    "test=data.skip(train_size)\n",
    "bs=64\n",
    "train=train.batch(bs).prefetch(tf.data.AUTOTUNE)\n",
    "test=test.batch(bs).prefetch(tf.data.AUTOTUNE)"
   ]
  },
  {
   "cell_type": "code",
   "execution_count": null,
   "metadata": {},
   "outputs": [
    {
     "name": "stdout",
     "output_type": "stream",
     "text": [
      "Epoch 1/10\n",
      "1250/1250 [==============================] - 5s 4ms/step - loss: 2.1228 - val_loss: 2.0765\n",
      "Epoch 2/10\n",
      "1250/1250 [==============================] - 5s 4ms/step - loss: 2.1365 - val_loss: 2.0849\n",
      "Epoch 3/10\n",
      "1250/1250 [==============================] - 5s 4ms/step - loss: 2.1307 - val_loss: 2.1211\n",
      "Epoch 4/10\n",
      "1250/1250 [==============================] - 5s 4ms/step - loss: 2.1277 - val_loss: 2.0721\n",
      "Epoch 5/10\n",
      "1250/1250 [==============================] - 7s 6ms/step - loss: 2.1258 - val_loss: 2.0963\n",
      "Epoch 6/10\n",
      "1250/1250 [==============================] - 19s 15ms/step - loss: 2.1299 - val_loss: 2.1886\n",
      "Epoch 7/10\n",
      "1250/1250 [==============================] - 5s 4ms/step - loss: 2.1415 - val_loss: 2.3806\n",
      "Epoch 8/10\n",
      "1250/1250 [==============================] - 5s 4ms/step - loss: 2.1308 - val_loss: 2.0930\n",
      "Epoch 9/10\n",
      "1250/1250 [==============================] - 5s 4ms/step - loss: 2.1203 - val_loss: 2.0954\n",
      "Epoch 10/10\n",
      "1250/1250 [==============================] - 4s 3ms/step - loss: 2.1264 - val_loss: 2.0881\n"
     ]
    },
    {
     "data": {
      "text/plain": [
       "<keras.callbacks.History at 0x1bcfefd3e80>"
      ]
     },
     "execution_count": 16,
     "metadata": {},
     "output_type": "execute_result"
    }
   ],
   "source": [
    "model=keras.Sequential(\n",
    "    [\n",
    "        keras.layers.Dense(128,activation='relu', input_shape=(2,),kernel_regularizer=tf.keras.regularizers.l2(0.001)),\n",
    "        keras.layers.Dense(1)\n",
    "    ]\n",
    ")\n",
    "optimizer = tf.keras.optimizers.Adam(learning_rate=0.0005) \n",
    "model.compile(optimizer=optimizer,loss='mse')\n",
    "model.fit(train,epochs=10,validation_data=test,verbose=1)"
   ]
  },
  {
   "cell_type": "code",
   "execution_count": null,
   "metadata": {},
   "outputs": [],
   "source": [
    "mnist=tf.keras.datasets.mnist\n",
    "(x_train,y_train),(x_test, y_test)=mnist.load_data()\n",
    "x_train,x_test=x_train/255.0,x_test/255.0"
   ]
  },
  {
   "cell_type": "code",
   "execution_count": 23,
   "metadata": {},
   "outputs": [],
   "source": [
    "model=tf.keras.models.Sequential([\n",
    "    tf.keras.layers.Flatten(input_shape=(28,28)),\n",
    "    tf.keras.layers.Dense(128, activation=\"relu\"),\n",
    "    tf.keras.layers.Dropout(0.2),\n",
    "    tf.keras.layers.Dense(10)\n",
    "])"
   ]
  },
  {
   "cell_type": "code",
   "execution_count": 111,
   "metadata": {},
   "outputs": [],
   "source": [
    "loss=tf.keras.losses.SparseCategoricalCrossentropy(from_logits=True)\n",
    "model.compile(optimizer='adam',loss=loss,metrics=[\"accuracy\"])"
   ]
  },
  {
   "cell_type": "code",
   "execution_count": 112,
   "metadata": {},
   "outputs": [
    {
     "name": "stdout",
     "output_type": "stream",
     "text": [
      "Epoch 1/5\n",
      "1875/1875 [==============================] - 5s 2ms/step - loss: 0.0164 - accuracy: 0.9949\n",
      "Epoch 2/5\n",
      "1875/1875 [==============================] - 4s 2ms/step - loss: 0.0167 - accuracy: 0.9944\n",
      "Epoch 3/5\n",
      "1875/1875 [==============================] - 4s 2ms/step - loss: 0.0174 - accuracy: 0.9942\n",
      "Epoch 4/5\n",
      "1875/1875 [==============================] - 4s 2ms/step - loss: 0.0145 - accuracy: 0.9948\n",
      "Epoch 5/5\n",
      "1875/1875 [==============================] - 4s 2ms/step - loss: 0.0151 - accuracy: 0.9949\n"
     ]
    },
    {
     "data": {
      "text/plain": [
       "<keras.callbacks.History at 0x1bcea416590>"
      ]
     },
     "execution_count": 112,
     "metadata": {},
     "output_type": "execute_result"
    }
   ],
   "source": [
    "model.fit(x_train,y_train,epochs=5)"
   ]
  },
  {
   "cell_type": "code",
   "execution_count": 115,
   "metadata": {},
   "outputs": [
    {
     "name": "stdout",
     "output_type": "stream",
     "text": [
      "313/313 [==============================] - 1s 2ms/step - loss: 0.1148 - accuracy: 0.9809\n"
     ]
    },
    {
     "data": {
      "text/plain": [
       "[0.11476805061101913, 0.98089998960495]"
      ]
     },
     "execution_count": 115,
     "metadata": {},
     "output_type": "execute_result"
    }
   ],
   "source": [
    "model.evaluate(x_test,y_test,verbose=1)"
   ]
  },
  {
   "cell_type": "code",
   "execution_count": 132,
   "metadata": {},
   "outputs": [
    {
     "name": "stdout",
     "output_type": "stream",
     "text": [
      "313/313 [==============================] - 0s 971us/step\n"
     ]
    },
    {
     "data": {
      "text/plain": [
       "191"
      ]
     },
     "execution_count": 132,
     "metadata": {},
     "output_type": "execute_result"
    }
   ],
   "source": [
    "np.sum(tf.cast(tf.argmax(model.predict(x_test),axis=1)!=y_test,tf.int32))"
   ]
  }
 ],
 "metadata": {
  "kernelspec": {
   "display_name": "Python 3",
   "language": "python",
   "name": "python3"
  },
  "language_info": {
   "codemirror_mode": {
    "name": "ipython",
    "version": 3
   },
   "file_extension": ".py",
   "mimetype": "text/x-python",
   "name": "python",
   "nbconvert_exporter": "python",
   "pygments_lexer": "ipython3",
   "version": "3.10.11"
  }
 },
 "nbformat": 4,
 "nbformat_minor": 2
}
